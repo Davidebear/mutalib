{
 "cells": [
  {
   "cell_type": "code",
   "execution_count": 1,
   "metadata": {},
   "outputs": [],
   "source": [
    "from sbhandler import *\n",
    "from pickle import load, dump"
   ]
  },
  {
   "cell_type": "code",
   "execution_count": 2,
   "metadata": {},
   "outputs": [],
   "source": [
    "# load_matlab_file function Testing\n",
    "file_name = 'consensus1.mat'\n",
    "variable_of_interest = 'align3'\n",
    "h5py_object, data = load_matlab_file(file_name, variable_name=variable_of_interest)\n",
    "\n",
    "# DNA_seqs can be used to grab each raw_seqblock\n",
    "DNA_seqs = DNA_SeqBlocks(h5py_object=h5py_object, data=data) \n",
    "\n",
    "FILE_SIZE = DNA_seqs.size #Constant"
   ]
  },
  {
   "cell_type": "code",
   "execution_count": 3,
   "metadata": {},
   "outputs": [],
   "source": [
    "# Load in barcodes and truelens for the day\n",
    "import pickle\n",
    "df = pickle.load(open('pickle/v2BarcodesTruelen.pickle', 'rb'))\n",
    "BARCODES = df.barcode\n",
    "TRUELENS = df.true_len"
   ]
  },
  {
   "cell_type": "code",
   "execution_count": 4,
   "metadata": {},
   "outputs": [],
   "source": [
    "# Make sure it works on a small dataset first.\n",
    "tinyDS = range(1, 10001)\n",
    "DS = range(1, FILE_SIZE+1)"
   ]
  },
  {
   "cell_type": "markdown",
   "metadata": {},
   "source": [
    "## GET BFP-parsed seqblocks"
   ]
  },
  {
   "cell_type": "code",
   "execution_count": null,
   "metadata": {},
   "outputs": [],
   "source": [
    "# bfp_list = []\n",
    "# rfp_list = []\n",
    "\n",
    "# for i in DS:\n",
    "#     end = TRUELENS[i]\n",
    "#     b, r = DNA_seqs.get_br(i, end)\n",
    "#     bfp_list.append(b)\n",
    "#     rfp_list.append(r)"
   ]
  },
  {
   "cell_type": "code",
   "execution_count": 76,
   "metadata": {},
   "outputs": [],
   "source": [
    "# import pickle\n",
    "# with open('raw_bfp.pickle', 'wb') as f:\n",
    "#     pickle.dump(bfp_list, f)\n",
    "\n",
    "# import pickle\n",
    "# with open('raw_rfp.pickle', 'wb') as f:\n",
    "#     pickle.dump(rfp_list, f)"
   ]
  },
  {
   "cell_type": "code",
   "execution_count": 5,
   "metadata": {},
   "outputs": [],
   "source": [
    "# Load 'em in \n",
    "import pickle\n",
    "bfp_list = pickle.load( open('raw_bfp.pickle', 'rb'))\n",
    "rfp_list = pickle.load( open('raw_rfp.pickle', 'rb'))"
   ]
  },
  {
   "cell_type": "markdown",
   "metadata": {},
   "source": [
    "### Calculating Adjusted Real Error vs. Q score and nucleotide"
   ]
  },
  {
   "cell_type": "code",
   "execution_count": 73,
   "metadata": {},
   "outputs": [],
   "source": [
    "# -----\n",
    "# For each qscore (except 32): track value[0] observed, value[1] incorrect\n",
    "each_qscore = {'correct' : 0, 'A' : 0, 'C' : 0, 'G' : 0, 'T' : 0, '-' : 0}\n",
    "\n",
    "# tracking = {'A' : { i : each_qscore for i in np.arange(32,127) },\n",
    "            # 'C' : { i : each_qscore for i in np.arange(32,127) },\n",
    "            # 'T' : { i : each_qscore for i in np.arange(32,127) },\n",
    "            # 'G' : { i : each_qscore for i in np.arange(32,127) },\n",
    "            # '-' : { i : each_qscore for i in np.arange(32,127) }}\n",
    "tracking = {'A' : { i : [0,0,0,0,0,0] for i in np.arange(32,127)},\n",
    "            'C' : {i : [0,0,0,0,0,0] for i in np.arange(32,127)},\n",
    "            'G' : {i : [0,0,0,0,0,0] for i in np.arange(32,127)},\n",
    "            'T' : {i : [0,0,0,0,0,0] for i in np.arange(32,127)},\n",
    "            '-' : {i : [0,0,0,0,0,0] for i in np.arange(32,127)}}\n",
    "\n",
    "def hot_encode(num):\n",
    "    if num == 65: return 1\n",
    "    if num ==67: return 2\n",
    "    if num ==71: return 3\n",
    "    if num == 84: return 4\n",
    "    else: return 5\n",
    "for bfp in bfp_list:\n",
    "    cov = int((len(bfp.columns)-4)/2) # New rename() will include it in the first two chars\n",
    "    for read_num in range(1, cov+1):\n",
    "        read = bfp[f'read{read_num}']\n",
    "        for nuc in range(len(read.index)):\n",
    "            true_nuc = bfp.iloc[nuc,0]\n",
    "            chr_tnuc = chr(true_nuc) # convert to a chr the targ\n",
    "            qscore = bfp[f'q{read_num}'].iloc[nuc] # The qscore\n",
    "            check = read.iloc[nuc] # \n",
    "            if check == true_nuc: # If correct. Add to observed\n",
    "                # tracking[chr_tnuc][qscore] = tracking[chr_tnuc].setdefault(qscore, {'correct' : 0,65:0,67:0,71:0,84:0,45:0})\n",
    "                # tracking[chr_tnuc][qscore]['correct'] += 1\n",
    "                tracking[chr_tnuc][qscore][0] += 1\n",
    "            else: # If they disagree\n",
    "                # tracking[chr_tnuc][qscore] = tracking[chr_tnuc].setdefault(qscore, {'correct':0, 65:0,67:0,71:0,84:0,45:0})\n",
    "                # tracking[chr_tnuc][qscore][chr(check)] += 1\n",
    "                tracking[chr_tnuc][qscore][hot_encode(check)] +=1\n",
    "\n",
    "\n",
    "        "
   ]
  },
  {
   "cell_type": "code",
   "execution_count": 124,
   "metadata": {},
   "outputs": [],
   "source": [
    "# Save tracking for now\n",
    "\n",
    "# with open( 'trackingv1.pickle', 'wb') as f:\n",
    "#     pickle.dump(tracking, f)"
   ]
  },
  {
   "cell_type": "code",
   "execution_count": 6,
   "metadata": {},
   "outputs": [],
   "source": [
    "# Import tracking\n",
    "tracking = pickle.load(open('trackingv1.pickle', 'rb'))"
   ]
  },
  {
   "cell_type": "markdown",
   "metadata": {},
   "source": [
    "Look at just "
   ]
  },
  {
   "cell_type": "code",
   "execution_count": 167,
   "metadata": {},
   "outputs": [],
   "source": [
    "# Let's start basic\n",
    "# Just 'A' and total wrong\n",
    "# Remember that 33 is useless. 32 does not exist.\n",
    "to_plot = {'A' : [], 'C' : [], 'G' : [], 'T' : []}\n",
    "\n",
    "\n",
    "raw_x = [i for i in np.arange(35, 127)] #34 is 0 in test\n",
    "\n",
    "for n in ['A', 'C', 'G', 'T']:\n",
    "    raw_y = []\n",
    "    focus = tracking[n]\n",
    "    for i in focus.keys():\n",
    "        if i < 35: continue\n",
    "        stats = focus.get(i)\n",
    "        total = sum(stats)\n",
    "        wrong = sum(stats[1:])\n",
    "        if total == 0:\n",
    "            raw_y.append(0)\n",
    "        else: raw_y.append(wrong/total)\n",
    "    to_plot[n] = raw_y\n",
    "\n",
    "\n"
   ]
  },
  {
   "cell_type": "code",
   "execution_count": 168,
   "metadata": {},
   "outputs": [],
   "source": [
    "%matplotlib inline\n",
    "import math\n",
    "import matplotlib.pyplot as plt\n",
    "\n",
    "for nuc in ['A', 'C', 'G', 'T']:\n",
    "    to_change = to_plot[nuc]\n",
    "    for i in range(len(to_change)):\n",
    "        if to_change[i] == 0: \n",
    "            to_change[i] = 0 \n",
    "        else: \n",
    "            to_change[i] = math.log(to_change[i])\n"
   ]
  },
  {
   "cell_type": "code",
   "execution_count": 155,
   "metadata": {},
   "outputs": [
    {
     "data": {
      "image/png": "[encoded data removed]",
      "text/plain": [
       "<Figure size 432x288 with 1 Axes>"
      ]
     },
     "metadata": {
      "needs_background": "light"
     },
     "output_type": "display_data"
    }
   ],
   "source": [
    "fig, axes = plt.subplots(2,2, sharex=True, sharey=True)\n",
    "for i in range(2):\n",
    "    for j in range(2):\n",
    "        for nuc in ['A', 'C', 'G', 'T']:\n",
    "            axes[i,j].scatter(to_plot[nuc]\n"
   ]
  },
  {
   "cell_type": "markdown",
   "metadata": {},
   "source": [
    "#### Optional: Use torch to calculate the line of best fit of the data (Machine Learning)"
   ]
  },
  {
   "cell_type": "code",
   "execution_count": 121,
   "metadata": {},
   "outputs": [],
   "source": [
    "# Desired func y = mx + b => # params are m, b\n",
    "import torch\n",
    "p = torch.randn(2).requires_grad_()"
   ]
  },
  {
   "cell_type": "code",
   "execution_count": null,
   "metadata": {},
   "outputs": [],
   "source": [
    "x = torch.tensor(x).long()\n",
    "y=torch.tensor(y).float()\n",
    "\n",
    "class Dataset(torch.utils.data.Dataset):\n",
    "    def __init__(self, x,y):\n",
    "        super().__init__()\n",
    "        self.x,self.y = x,y\n",
    "        self.len = len(x)\n",
    "    def __len__(self): return self.len\n",
    "    def __getitem__(self, idx): return x[idx], y[idx]\n",
    "\n",
    "testds = torch.utils.data.DataLoader(Dataset(x,y), batch_size=3)"
   ]
  },
  {
   "cell_type": "code",
   "execution_count": null,
   "metadata": {},
   "outputs": [],
   "source": [
    "def func(params, input):\n",
    "    a, b = params\n",
    "    return a*input + b\n",
    "\n",
    "import torch.functional as F\n",
    "from fastai.vision.all import *\n",
    "from fastbook import *\n",
    "\n",
    "def loss_func(pred, targ):\n",
    "    # Let's use RMSE\n",
    "    return ((pred-targ)**2).sqrt()\n",
    "\n",
    "lr = 1e-5\n",
    "for i in range(100):\n",
    "    loss_total = 0\n",
    "    n_obs = 0\n",
    "    for xin, yin in testds:\n",
    "        \n",
    "        pred = func(p, xin)\n",
    "        loss = loss_func(pred, yin).mean()\n",
    "        \n",
    "        loss.backward() \n",
    "        p.data -= p.grad.data * lr\n",
    "        p.grad = None\n",
    "        \n",
    "        n = len(xin)\n",
    "        loss_total += loss.item()*n\n",
    "        n_obs +=n\n",
    "        \n",
    "    print(loss_total/n_obs)"
   ]
  },
  {
   "cell_type": "code",
   "execution_count": 127,
   "metadata": {},
   "outputs": [],
   "source": [
    "def f(x):\n",
    "    a,b =p.data\n",
    "    return a*x+b"
   ]
  },
  {
   "cell_type": "code",
   "execution_count": 135,
   "metadata": {},
   "outputs": [],
   "source": [
    "y=[]\n",
    "for i in raw_x:\n",
    "    y.append(f(i))\n",
    "    "
   ]
  },
  {
   "cell_type": "markdown",
   "metadata": {},
   "source": []
  },
  {
   "cell_type": "code",
   "execution_count": null,
   "metadata": {},
   "outputs": [],
   "source": []
  }
 ],
 "metadata": {
  "interpreter": {
   "hash": "7e45b5fe9540dcae422003c6a552f47067b28c6171ef36dc1ede64a9e99e7c78"
  },
  "kernelspec": {
   "display_name": "Python 3.8.10 ('venv')",
   "language": "python",
   "name": "python3"
  },
  "language_info": {
   "codemirror_mode": {
    "name": "ipython",
    "version": 3
   },
   "file_extension": ".py",
   "mimetype": "text/x-python",
   "name": "python",
   "nbconvert_exporter": "python",
   "pygments_lexer": "ipython3",
   "version": "3.9.12"
  },
  "orig_nbformat": 4
 },
 "nbformat": 4,
 "nbformat_minor": 2
}
