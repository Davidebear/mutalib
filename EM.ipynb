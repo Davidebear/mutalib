{
 "cells": [
  {
   "cell_type": "code",
   "execution_count": 1,
   "metadata": {},
   "outputs": [],
   "source": [
    "from sbhandler import *\n",
    "import pickle"
   ]
  },
  {
   "cell_type": "code",
   "execution_count": 2,
   "metadata": {},
   "outputs": [],
   "source": [
    "# load_matlab_file function Testing\n",
    "file_name = 'consensus1.mat'\n",
    "variable_of_interest = 'align3'\n",
    "h5py_object, data = load_matlab_file(file_name, variable_name=variable_of_interest)\n",
    "\n",
    "# DNA_seqs can be used to grab each raw_seqblock\n",
    "DNA_seqs = DNA_SeqBlocks(h5py_object=h5py_object, data=data) \n",
    "\n",
    "FILE_SIZE = DNA_seqs.size #Constant"
   ]
  },
  {
   "cell_type": "code",
   "execution_count": 3,
   "metadata": {},
   "outputs": [],
   "source": [
    "# Load in barcodes and truelens for the day\n",
    "df = pickle.load(open('pickle/v2BarcodesTruelen.pickle', 'rb'))\n",
    "BARCODES = df.barcode\n",
    "TRUELENS = df.true_len"
   ]
  },
  {
   "cell_type": "code",
   "execution_count": 4,
   "metadata": {},
   "outputs": [],
   "source": [
    "# Make sure it works on a small dataset first.\n",
    "tinyDS = range(1, 10001)\n",
    "DS = range(1, FILE_SIZE+1)"
   ]
  },
  {
   "cell_type": "markdown",
   "metadata": {},
   "source": [
    "## GET BFP-parsed seqblocks"
   ]
  },
  {
   "cell_type": "code",
   "execution_count": null,
   "metadata": {},
   "outputs": [],
   "source": [
    "# bfp_list = []\n",
    "# rfp_list = []\n",
    "\n",
    "# for i in DS:\n",
    "#     end = TRUELENS[i]\n",
    "#     b, r = DNA_seqs.get_br(i, end)\n",
    "#     bfp_list.append(b)\n",
    "#     rfp_list.append(r)"
   ]
  },
  {
   "cell_type": "code",
   "execution_count": 6,
   "metadata": {},
   "outputs": [],
   "source": [
    "# with open('pickle/raw_bfp.pickle', 'wb') as f:\n",
    "#     pickle.dump(bfp_list, f)\n",
    "\n",
    "# with open('pickle/raw_rfp.pickle', 'wb') as f:\n",
    "#     pickle.dump(rfp_list, f)"
   ]
  },
  {
   "cell_type": "code",
   "execution_count": 5,
   "metadata": {},
   "outputs": [],
   "source": [
    "# Load 'em in \n",
    "bfp_list = pickle.load( open('pickle/raw_bfp.pickle', 'rb'))\n",
    "rfp_list = pickle.load( open('pickle/raw_rfp.pickle', 'rb'))"
   ]
  },
  {
   "cell_type": "markdown",
   "metadata": {},
   "source": [
    "### Compositional Probability\n",
    "- Support of each nucleotide\n",
    "- Observe four types\n",
    "    - BFP vs. RFP\n",
    "    - target vs. reads \n",
    "        - truncate indels at the beginning... while (first_nuc != 45):"
   ]
  },
  {
   "cell_type": "markdown",
   "metadata": {},
   "source": [
    "Count 'em up:\n",
    "- Probability for BFP target, BFP reads\n",
    "[0.27, 0.30, 0.27, 0.16, 0.00]\n",
    "- Probability for RFP target, RFP reads:\n",
    "[0.23, 0.32, 0.31, 0.15, 0.00]"
   ]
  },
  {
   "cell_type": "markdown",
   "metadata": {},
   "source": [
    "BFP "
   ]
  },
  {
   "cell_type": "code",
   "execution_count": null,
   "metadata": {},
   "outputs": [],
   "source": [
    "bfp_targ_counter = dict(zip(['A', 'C', 'G', 'T', '-'], [0]*5))\n",
    "bfp_read_counter = dict(zip(['A', 'C', 'G', 'T', '-'], [0]*5))\n",
    "\n",
    "for n, bfp in enumerate(bfp_list[0:50_000]):\n",
    "    if n % 3550 == 0: print(f'{100*(n/355104):.0f}%')\n",
    "    if bfp.empty: continue\n",
    "    targ = bfp['target']\n",
    "    idx = 0\n",
    "    if len(targ) > 2 and targ.iloc[0] == 45: # if it starts with an indel\n",
    "        idx = 1\n",
    "        while (targ.iloc[idx] == 45) and idx < len(targ):\n",
    "            idx += 1\n",
    "    for num in range(idx, len(targ)):\n",
    "        bfp_targ_counter[chr(targ.iloc[num])] += 1\n",
    "    cov = int( (len(bfp.columns) -4 )/2)\n",
    "    for r in range(cov):\n",
    "        read = bfp[f'read{r+1}']\n",
    "        idx = 0\n",
    "        if len(read) > 2 and read.iloc[0] == 45: # if it starts with an indel\n",
    "            # print(len(read))\n",
    "            idx = 1\n",
    "            while (idx < len(read) and read.iloc[idx] == 45):\n",
    "                # if (idx > 0 and idx % 100 == 0): print(bfp.index.name)\n",
    "    \n",
    "                idx += 1\n",
    "        for num in range(idx, len(read)):\n",
    "            bfp_read_counter[chr(read.iloc[num])] += 1\n",
    "\n",
    "\n",
    "total_btc = sum(bfp_targ_counter.values())            \n",
    "for nuc, val in bfp_targ_counter.items():\n",
    "    print(f'{nuc}: {val/total_btc:.2f}')\n",
    "    print('\\n')\n",
    "total_brc = sum(bfp_read_counter.values())\n",
    "for nuc, val in bfp_read_counter.items():\n",
    "    print(f'{nuc}: {val/total_brc:.2f}')\n"
   ]
  },
  {
   "cell_type": "markdown",
   "metadata": {},
   "source": [
    "RFP"
   ]
  },
  {
   "cell_type": "code",
   "execution_count": 55,
   "metadata": {},
   "outputs": [
    {
     "name": "stdout",
     "output_type": "stream",
     "text": [
      "0.00%\n",
      "0.01%\n",
      "0.02%\n",
      "A: 0.23\n",
      "C: 0.32\n",
      "G: 0.31\n",
      "T: 0.15\n",
      "-: 0.00\n",
      "\n",
      "\n",
      "A: 0.23\n",
      "C: 0.32\n",
      "G: 0.31\n",
      "T: 0.15\n",
      "-: 0.00\n"
     ]
    }
   ],
   "source": [
    "rfp_targ_counter = dict(zip(['A', 'C', 'G', 'T', '-'], [0]*5))\n",
    "rfp_read_counter = dict(zip(['A', 'C', 'G', 'T', '-'], [0]*5))\n",
    "\n",
    "for n, rfp in enumerate(rfp_list[0::50]):\n",
    "    # print(n*50)\n",
    "    if n % 3550 == 0: print(f'{n/355104:.2f}%')\n",
    "    if rfp.empty: continue\n",
    "    \n",
    "    cov = int( (len(rfp.columns) -4 )/2)\n",
    "    if cov > 3: \n",
    "        targ = rfp['contig']\n",
    "        idx = 0\n",
    "        len_targ = len(targ)\n",
    "        if len(targ) > 1 and targ.iloc[0] == 45: # if it starts with an indel\n",
    "            idx = 1\n",
    "            while ( idx < len_targ and targ.iloc[idx] == 45):\n",
    "                idx += 1\n",
    "        for num in range(idx, len_targ):\n",
    "            rfp_targ_counter[chr(targ.iloc[num])] += 1\n",
    "    \n",
    "    for r in range(cov):\n",
    "        read = rfp[f'read{r+1}']\n",
    "        idx = 0\n",
    "        len_read = len(read)\n",
    "        if len_read > 2 and read.iloc[0] == 45: # if it starts with an indel\n",
    "            # print(len(read))\n",
    "            idx = 1\n",
    "            while (idx < len_read and read.iloc[idx] == 45):\n",
    "                # if (idx > 0 and idx % 100 == 0): print(rfp.index.name)\n",
    "    \n",
    "                idx += 1\n",
    "        end = len_read\n",
    "        if (read[-3:] == [45, 45, 45]).all():\n",
    "            end = len_read - 4\n",
    "            while idx < (end - 1) and read.iloc[end] == 45:\n",
    "                end = end - 1\n",
    "            \n",
    "        for num in range(idx, end): \n",
    "            rfp_read_counter[chr(read.iloc[num])] += 1\n",
    "\n",
    "total_rtc = sum(rfp_targ_counter.values())            \n",
    "for nuc, val in rfp_targ_counter.items():\n",
    "    print(f'{nuc}: {val/total_rtc:.2f}')\n",
    "print('\\n')\n",
    "total_rrc = sum(rfp_read_counter.values())\n",
    "for nuc, val in rfp_read_counter.items():\n",
    "    print(f'{nuc}: {val/total_rrc:.2f}')"
   ]
  },
  {
   "cell_type": "markdown",
   "metadata": {},
   "source": [
    "### Sequencing Error Rates? Reflect by adjusting the Q score\n",
    "- Truth known. What is it being mistaken for? \n",
    "- Create a 5x5 matrix"
   ]
  },
  {
   "cell_type": "markdown",
   "metadata": {},
   "source": [
    "Obtain the frequency of correct vs error"
   ]
  },
  {
   "cell_type": "code",
   "execution_count": 206,
   "metadata": {},
   "outputs": [],
   "source": [
    "# 287 minutes\n",
    "# -----\n",
    "# For each qscore (except 32): track value[0] observed, value[1] incorrect\n",
    "each_qscore = {'correct' : 0, 'A' : 0, 'C' : 0, 'G' : 0, 'T' : 0, '-' : 0}\n",
    "\n",
    "# tracking = {'A' : { i : each_qscore for i in np.arange(32,127) },\n",
    "            # 'C' : { i : each_qscore for i in np.arange(32,127) },\n",
    "            # 'T' : { i : each_qscore for i in np.arange(32,127) },\n",
    "            # 'G' : { i : each_qscore for i in np.arange(32,127) },\n",
    "            # '-' : { i : each_qscore for i in np.arange(32,127) }}\n",
    "tracking = {'A' : { i : [0,0,0,0,0,0] for i in np.arange(32,127)},\n",
    "            'C' : {i : [0,0,0,0,0,0] for i in np.arange(32,127)},\n",
    "            'G' : {i : [0,0,0,0,0,0] for i in np.arange(32,127)},\n",
    "            'T' : {i : [0,0,0,0,0,0] for i in np.arange(32,127)},\n",
    "            '-' : {i : [0,0,0,0,0,0] for i in np.arange(32,127)}}\n",
    "\n",
    "def hot_encode(num):\n",
    "    if num == 65: return 1\n",
    "    elif num == 67: return 2\n",
    "    elif num == 71: return 3\n",
    "    elif num == 84: return 4\n",
    "    else: return 5\n",
    "    \n",
    "for bfp in bfp_list:\n",
    "    cov = int((len(bfp.columns)-4)/2) # New rename() will include it in the first two chars\n",
    "    for read_num in range(1, cov+1):\n",
    "        read = bfp[f'read{read_num}']\n",
    "        for nuc in range(len(read.index)):\n",
    "            true_nuc = bfp.iloc[nuc,0]\n",
    "            chr_tnuc = chr(true_nuc) # convert to a chr the targ\n",
    "            qscore = bfp[f'q{read_num}'].iloc[nuc] # The qscore\n",
    "            check = read.iloc[nuc] # \n",
    "            if check == true_nuc: # If correct. Add to observed\n",
    "                # tracking[chr_tnuc][qscore] = tracking[chr_tnuc].setdefault(qscore, {'correct' : 0,65:0,67:0,71:0,84:0,45:0})\n",
    "                # tracking[chr_tnuc][qscore]['correct'] += 1\n",
    "                tracking[chr_tnuc][qscore][0] += 1\n",
    "            else: # If they disagree\n",
    "                # tracking[chr_tnuc][qscore] = tracking[chr_tnuc].setdefault(qscore, {'correct':0, 65:0,67:0,71:0,84:0,45:0})\n",
    "                # tracking[chr_tnuc][qscore][chr(check)] += 1\n",
    "                tracking[chr_tnuc][qscore][hot_encode(check)] +=1        "
   ]
  },
  {
   "cell_type": "markdown",
   "metadata": {},
   "source": [
    "Reformat into a 5x5 matrix"
   ]
  },
  {
   "cell_type": "code",
   "execution_count": 161,
   "metadata": {},
   "outputs": [
    {
     "data": {
      "text/plain": [
       "{32: [0, 0, 0, 0, 0, 0],\n",
       " 33: [0, 0, 0, 0, 0, 6710278],\n",
       " 34: [0, 0, 0, 0, 0, 0],\n",
       " 35: [367, 0, 57, 51, 101, 0],\n",
       " 36: [20411, 0, 649, 766, 992, 0],\n",
       " 37: [36319, 0, 862, 1012, 1167, 0],\n",
       " 38: [32671, 0, 726, 888, 923, 0],\n",
       " 39: [32066, 0, 592, 766, 709, 0],\n",
       " 40: [32014, 0, 498, 711, 592, 0],\n",
       " 41: [32013, 0, 462, 703, 551, 0],\n",
       " 42: [33075, 0, 414, 561, 494, 0],\n",
       " 43: [34488, 0, 390, 547, 469, 0],\n",
       " 44: [35915, 0, 346, 515, 406, 0],\n",
       " 45: [37854, 0, 315, 505, 376, 0],\n",
       " 46: [39757, 0, 314, 446, 370, 0],\n",
       " 47: [42214, 0, 293, 461, 347, 0],\n",
       " 48: [45263, 0, 297, 461, 340, 0],\n",
       " 49: [48383, 0, 279, 407, 289, 0],\n",
       " 50: [51308, 0, 288, 374, 276, 0],\n",
       " 51: [54840, 0, 253, 380, 273, 0],\n",
       " 52: [58229, 0, 224, 387, 222, 0],\n",
       " 53: [62857, 0, 237, 362, 249, 0],\n",
       " 54: [65741, 0, 225, 348, 222, 0],\n",
       " 55: [70897, 0, 213, 332, 211, 0],\n",
       " 56: [76217, 0, 202, 375, 206, 0],\n",
       " 57: [82867, 0, 185, 301, 191, 0],\n",
       " 58: [87593, 0, 166, 328, 210, 0],\n",
       " 59: [93682, 0, 163, 282, 175, 0],\n",
       " 60: [101408, 0, 184, 273, 177, 0],\n",
       " 61: [108229, 0, 155, 257, 151, 0],\n",
       " 62: [115065, 0, 138, 273, 143, 0],\n",
       " 63: [123371, 0, 140, 247, 153, 0],\n",
       " 64: [130320, 0, 169, 266, 144, 0],\n",
       " 65: [139428, 0, 126, 262, 136, 0],\n",
       " 66: [144502, 0, 128, 255, 130, 0],\n",
       " 67: [152412, 0, 124, 217, 133, 0],\n",
       " 68: [160799, 0, 123, 247, 133, 0],\n",
       " 69: [169250, 0, 117, 249, 100, 0],\n",
       " 70: [179241, 0, 107, 214, 101, 0],\n",
       " 71: [188735, 0, 115, 209, 118, 0],\n",
       " 72: [198614, 0, 102, 216, 93, 0],\n",
       " 73: [209163, 0, 101, 203, 112, 0],\n",
       " 74: [226530, 0, 111, 202, 97, 0],\n",
       " 75: [239328, 0, 90, 195, 93, 0],\n",
       " 76: [248783, 0, 89, 187, 99, 0],\n",
       " 77: [261847, 0, 75, 182, 90, 0],\n",
       " 78: [273315, 0, 85, 180, 111, 0],\n",
       " 79: [278573, 0, 77, 151, 89, 0],\n",
       " 80: [289896, 0, 86, 165, 90, 0],\n",
       " 81: [307908, 0, 77, 182, 87, 0],\n",
       " 82: [324720, 0, 73, 162, 94, 0],\n",
       " 83: [341622, 0, 81, 181, 80, 0],\n",
       " 84: [354928, 0, 73, 162, 89, 0],\n",
       " 85: [381333, 0, 60, 149, 64, 0],\n",
       " 86: [404241, 0, 67, 159, 88, 0],\n",
       " 87: [412566, 0, 49, 122, 78, 0],\n",
       " 88: [428616, 0, 60, 127, 79, 0],\n",
       " 89: [428280, 0, 60, 115, 76, 0],\n",
       " 90: [443561, 0, 63, 137, 68, 0],\n",
       " 91: [440065, 0, 59, 116, 75, 0],\n",
       " 92: [446086, 0, 60, 138, 74, 0],\n",
       " 93: [466665, 0, 46, 135, 70, 0],\n",
       " 94: [494316, 0, 50, 119, 63, 0],\n",
       " 95: [507776, 0, 63, 118, 68, 0],\n",
       " 96: [533227, 0, 51, 122, 56, 0],\n",
       " 97: [550984, 0, 54, 126, 71, 0],\n",
       " 98: [569867, 0, 66, 101, 54, 0],\n",
       " 99: [596391, 0, 54, 116, 65, 0],\n",
       " 100: [611748, 0, 50, 97, 66, 0],\n",
       " 101: [607000, 0, 46, 109, 79, 0],\n",
       " 102: [626055, 0, 40, 100, 69, 0],\n",
       " 103: [612848, 0, 45, 89, 72, 0],\n",
       " 104: [623272, 0, 44, 115, 76, 0],\n",
       " 105: [628524, 0, 47, 103, 66, 0],\n",
       " 106: [639128, 0, 32, 85, 64, 0],\n",
       " 107: [662201, 0, 42, 100, 55, 0],\n",
       " 108: [682044, 0, 35, 101, 58, 0],\n",
       " 109: [687439, 0, 35, 93, 68, 0],\n",
       " 110: [702054, 0, 39, 82, 51, 0],\n",
       " 111: [733735, 0, 33, 68, 64, 0],\n",
       " 112: [774107, 0, 47, 86, 62, 0],\n",
       " 113: [800676, 0, 41, 69, 64, 0],\n",
       " 114: [790157, 0, 43, 83, 54, 0],\n",
       " 115: [803185, 0, 35, 72, 45, 0],\n",
       " 116: [812748, 0, 48, 74, 55, 0],\n",
       " 117: [806934, 0, 34, 59, 57, 0],\n",
       " 118: [787571, 0, 29, 71, 66, 0],\n",
       " 119: [808871, 0, 28, 71, 46, 0],\n",
       " 120: [800957, 0, 40, 83, 49, 0],\n",
       " 121: [789098, 0, 35, 66, 65, 0],\n",
       " 122: [803874, 0, 34, 77, 59, 0],\n",
       " 123: [807886, 0, 35, 76, 30, 0],\n",
       " 124: [824796, 0, 39, 57, 64, 0],\n",
       " 125: [851921, 0, 35, 66, 58, 0],\n",
       " 126: [275959779, 0, 4152, 6806, 9040, 0]}"
      ]
     },
     "execution_count": 161,
     "metadata": {},
     "output_type": "execute_result"
    }
   ],
   "source": [
    "tracking['A']"
   ]
  },
  {
   "cell_type": "markdown",
   "metadata": {},
   "source": [
    "### Include RFP with high coverage\n",
    "- Advised by Yiyang to increase sample size: principle is that high coverage contigs (4+) is true for all practical purposes "
   ]
  },
  {
   "cell_type": "code",
   "execution_count": 236,
   "metadata": {},
   "outputs": [],
   "source": [
    "#78 minutes\n",
    "for rfp in rfp_list:\n",
    "    cov = int((len(rfp.columns)-4)/2)\n",
    "    if cov > 3:\n",
    "        for read_num in range(1, cov+1):\n",
    "            read = rfp[f'read{read_num}']\n",
    "            true = rfp.loc[:, 'contig']\n",
    "            for nuc in range(len(read.index)):\n",
    "                true_nuc = true.iloc[nuc]\n",
    "                chr_tnuc = chr(true_nuc) # convert to a chr the targ\n",
    "                qscore = rfp[f'q{read_num}'].iloc[nuc] # The qscore\n",
    "                check = read.iloc[nuc] # \n",
    "                if check == true_nuc: # If correct. Add to observed\n",
    "                    # tracking[chr_tnuc][qscore] = tracking[chr_tnuc].setdefault(qscore, {'correct' : 0,65:0,67:0,71:0,84:0,45:0})\n",
    "                    # tracking[chr_tnuc][qscore]['correct'] += 1\n",
    "                    tracking[chr_tnuc][qscore][0] += 1\n",
    "                else: # If they disagree\n",
    "                    # tracking[chr_tnuc][qscore] = tracking[chr_tnuc].setdefault(qscore, {'correct':0, 65:0,67:0,71:0,84:0,45:0})\n",
    "                    # tracking[chr_tnuc][qscore][chr(check)] += 1\n",
    "                    tracking[chr_tnuc][qscore][hot_encode(check)] +=1        \n",
    "            "
   ]
  },
  {
   "cell_type": "markdown",
   "metadata": {},
   "source": [
    "### Correcting Q Score"
   ]
  },
  {
   "cell_type": "code",
   "execution_count": 81,
   "metadata": {},
   "outputs": [],
   "source": [
    "# Let's start basic\n",
    "# Just 'A' and total wrong\n",
    "# Remember that 33 is useless. 32 does not exist.\n",
    "to_plot = {'A' : [], 'C' : [], 'G' : [], 'T' : []}\n",
    "\n",
    "\n",
    "raw_x = [i for i in np.arange(35, 127)] #34 is 0 in test\n",
    "\n",
    "for n in ['A', 'C', 'G', 'T']:\n",
    "    raw_y = []\n",
    "    focus = tracking[n]\n",
    "    for i in focus.keys():\n",
    "        if i < 35: continue\n",
    "        stats = focus.get(i)\n",
    "        total = sum(stats)\n",
    "        wrong = sum(stats[1:])\n",
    "        if total == 0:\n",
    "            raw_y.append(0)\n",
    "        else: raw_y.append(wrong/total)\n",
    "    to_plot[n] = raw_y"
   ]
  },
  {
   "cell_type": "code",
   "execution_count": 82,
   "metadata": {},
   "outputs": [],
   "source": [
    "for nuc in to_plot:\n",
    "    focus = to_plot[nuc]\n",
    "    for n, num in enumerate(focus):\n",
    "        focus[n] = 33 - (10 * np.log10(num))"
   ]
  },
  {
   "cell_type": "code",
   "execution_count": 160,
   "metadata": {},
   "outputs": [
    {
     "data": {
      "text/plain": [
       "{32: [0, 0, 0, 0, 0, 0],\n",
       " 33: [4676053, 0, 0, 0, 0, 0],\n",
       " 34: [0, 0, 3, 1, 0, 0],\n",
       " 35: [0, 191, 135, 122, 112, 0],\n",
       " 36: [0, 2858, 2729, 2426, 1953, 0],\n",
       " 37: [0, 4149, 4029, 3683, 2816, 0],\n",
       " 38: [0, 3457, 3329, 3093, 2260, 0],\n",
       " 39: [0, 3012, 2894, 2682, 1902, 0],\n",
       " 40: [0, 2720, 2701, 2391, 1791, 0],\n",
       " 41: [0, 2471, 2575, 2263, 1629, 0],\n",
       " 42: [0, 2399, 2393, 2122, 1489, 0],\n",
       " 43: [0, 2309, 2173, 1992, 1475, 0],\n",
       " 44: [0, 2202, 2172, 1899, 1367, 0],\n",
       " 45: [0, 2104, 2097, 1868, 1267, 0],\n",
       " 46: [0, 2087, 2022, 1795, 1230, 0],\n",
       " 47: [0, 1970, 2037, 1818, 1134, 0],\n",
       " 48: [0, 1865, 1918, 1778, 1105, 0],\n",
       " 49: [0, 1883, 1940, 1787, 1152, 0],\n",
       " 50: [0, 1820, 1967, 1756, 1088, 0],\n",
       " 51: [0, 1817, 2012, 1767, 1090, 0],\n",
       " 52: [0, 1786, 1916, 1688, 1122, 0],\n",
       " 53: [0, 1814, 1937, 1696, 1033, 0],\n",
       " 54: [0, 1791, 1945, 1785, 1044, 0],\n",
       " 55: [0, 1717, 1993, 1765, 974, 0],\n",
       " 56: [0, 1756, 1890, 1788, 940, 0],\n",
       " 57: [0, 1699, 1945, 1823, 1001, 0],\n",
       " 58: [0, 1679, 1953, 1810, 949, 0],\n",
       " 59: [0, 1721, 2006, 1715, 1001, 0],\n",
       " 60: [0, 1715, 1955, 1809, 956, 0],\n",
       " 61: [0, 1685, 2067, 1904, 989, 0],\n",
       " 62: [0, 1691, 1990, 1869, 890, 0],\n",
       " 63: [0, 1637, 2023, 1842, 999, 0],\n",
       " 64: [0, 1613, 2014, 1834, 914, 0],\n",
       " 65: [0, 1701, 1980, 1912, 957, 0],\n",
       " 66: [0, 1639, 2085, 1836, 917, 0],\n",
       " 67: [0, 1558, 2102, 1884, 927, 0],\n",
       " 68: [0, 1552, 2110, 1923, 995, 0],\n",
       " 69: [0, 1497, 2101, 1963, 937, 0],\n",
       " 70: [0, 1560, 2201, 1927, 995, 0],\n",
       " 71: [0, 1516, 2024, 1908, 960, 0],\n",
       " 72: [0, 1559, 2086, 1925, 856, 0],\n",
       " 73: [0, 1471, 2190, 1963, 968, 0],\n",
       " 74: [0, 1492, 2165, 1993, 995, 0],\n",
       " 75: [0, 1555, 2187, 1999, 903, 0],\n",
       " 76: [0, 1454, 2145, 1975, 915, 0],\n",
       " 77: [0, 1506, 2244, 2132, 869, 0],\n",
       " 78: [0, 1424, 2228, 1994, 930, 0],\n",
       " 79: [0, 1487, 2183, 2045, 950, 0],\n",
       " 80: [0, 1453, 2202, 2149, 844, 0],\n",
       " 81: [0, 1366, 2177, 2071, 889, 0],\n",
       " 82: [0, 1393, 2246, 1967, 830, 0],\n",
       " 83: [0, 1379, 2213, 2109, 879, 0],\n",
       " 84: [0, 1369, 2242, 2038, 867, 0],\n",
       " 85: [0, 1372, 2325, 2039, 838, 0],\n",
       " 86: [0, 1276, 2275, 2103, 856, 0],\n",
       " 87: [0, 1325, 2307, 2085, 817, 0],\n",
       " 88: [0, 1273, 2360, 2153, 808, 0],\n",
       " 89: [0, 1242, 2396, 2133, 776, 0],\n",
       " 90: [0, 1245, 2328, 2068, 816, 0],\n",
       " 91: [0, 1257, 2325, 2164, 835, 0],\n",
       " 92: [0, 1207, 2221, 2186, 779, 0],\n",
       " 93: [0, 1219, 2328, 2129, 769, 0],\n",
       " 94: [0, 1170, 2327, 2103, 695, 0],\n",
       " 95: [0, 1137, 2280, 2125, 691, 0],\n",
       " 96: [0, 1148, 2256, 2037, 706, 0],\n",
       " 97: [0, 1089, 2158, 1998, 656, 0],\n",
       " 98: [0, 1132, 2245, 2112, 691, 0],\n",
       " 99: [0, 1108, 2228, 2060, 700, 0],\n",
       " 100: [0, 1141, 2159, 2011, 634, 0],\n",
       " 101: [0, 1088, 2167, 2072, 636, 0],\n",
       " 102: [0, 1021, 2173, 2025, 585, 0],\n",
       " 103: [0, 1007, 2105, 2010, 648, 0],\n",
       " 104: [0, 984, 2162, 1929, 600, 0],\n",
       " 105: [0, 1053, 2172, 1947, 567, 0],\n",
       " 106: [0, 959, 2151, 1930, 558, 0],\n",
       " 107: [0, 970, 2159, 1941, 580, 0],\n",
       " 108: [0, 878, 2108, 1851, 606, 0],\n",
       " 109: [0, 914, 2186, 1970, 525, 0],\n",
       " 110: [0, 865, 2245, 1874, 481, 0],\n",
       " 111: [0, 923, 2117, 1913, 486, 0],\n",
       " 112: [0, 885, 2132, 1866, 496, 0],\n",
       " 113: [0, 857, 2115, 1874, 504, 0],\n",
       " 114: [0, 762, 2065, 1853, 455, 0],\n",
       " 115: [0, 858, 2015, 1851, 443, 0],\n",
       " 116: [0, 760, 2062, 1811, 435, 0],\n",
       " 117: [0, 760, 2018, 1788, 414, 0],\n",
       " 118: [0, 696, 2008, 1810, 448, 0],\n",
       " 119: [0, 697, 2047, 1755, 422, 0],\n",
       " 120: [0, 714, 1966, 1716, 403, 0],\n",
       " 121: [0, 704, 1973, 1784, 379, 0],\n",
       " 122: [0, 660, 1919, 1777, 366, 0],\n",
       " 123: [0, 656, 1891, 1648, 378, 0],\n",
       " 124: [0, 636, 1846, 1736, 363, 0],\n",
       " 125: [0, 652, 1829, 1641, 355, 0],\n",
       " 126: [0, 43531, 128934, 113338, 16827, 0]}"
      ]
     },
     "execution_count": 160,
     "metadata": {},
     "output_type": "execute_result"
    }
   ],
   "source": [
    "tracking['-']"
   ]
  },
  {
   "cell_type": "code",
   "execution_count": 122,
   "metadata": {},
   "outputs": [
    {
     "data": {
      "text/plain": [
       "Text(0, 0.5, 'Observed Q Score')"
      ]
     },
     "execution_count": 122,
     "metadata": {},
     "output_type": "execute_result"
    },
    {
     "data": {
      "image/png": "[encoded data removed]",
      "text/plain": [
       "<Figure size 720x720 with 1 Axes>"
      ]
     },
     "metadata": {
      "needs_background": "light"
     },
     "output_type": "display_data"
    }
   ],
   "source": [
    "import matplotlib.pyplot as plt\n",
    "\n",
    "plt.figure(figsize=(10,10))\n",
    "for nuc in to_plot:\n",
    "    plt.scatter(raw_x, to_plot[nuc], marker='.', label=nuc)\n",
    "plt.plot(np.arange(35, 126), np.arange(35, 126), color='k')\n",
    "plt.legend()\n",
    "plt.xlim([33, 127])\n",
    "plt.ylim([33, 127])\n",
    "plt.title('Observed Sequencing Error Rates', fontsize=20)\n",
    "plt.xlabel('Phred Q Score', fontsize=15)\n",
    "plt.ylabel('Observed Q Score', fontsize=15)\n"
   ]
  },
  {
   "cell_type": "code",
   "execution_count": 154,
   "metadata": {},
   "outputs": [],
   "source": [
    "store = pd.DataFrame(to_plot, index=np.arange(35, 127))"
   ]
  },
  {
   "cell_type": "code",
   "execution_count": 155,
   "metadata": {},
   "outputs": [],
   "source": [
    "with open('pickle/observed_qscore.pickle', 'wb') as f:\n",
    "    pickle.dump(store, f)"
   ]
  },
  {
   "cell_type": "code",
   "execution_count": 138,
   "metadata": {},
   "outputs": [
    {
     "ename": "IndentationError",
     "evalue": "unexpected indent (837858696.py, line 2)",
     "output_type": "error",
     "traceback": [
      "\u001b[0;36m  Input \u001b[0;32mIn [138]\u001b[0;36m\u001b[0m\n\u001b[0;31m    test = []\u001b[0m\n\u001b[0m    ^\u001b[0m\n\u001b[0;31mIndentationError\u001b[0m\u001b[0;31m:\u001b[0m unexpected indent\n"
     ]
    }
   ],
   "source": [
    "test = []\n",
    "AT = []\n",
    "AC = []\n",
    "AG = []\n",
    "AI = []\n",
    "\n",
    "for q, freq in tracking['A'].items():\n",
    "    test.append(q)\n",
    "    total = freq[0]\n",
    "    check = freq[2:]\n",
    "    for idx, num in enumerate(check):\n",
    "        if idx == 0:\n",
    "            if total == 0: AC.append(0)\n",
    "            else: AC.append(num/total)\n",
    "        elif idx == 1:\n",
    "            if total == 0: AG.append(0)\n",
    "            else: AG.append(num/total)\n",
    "        elif idx == 2:\n",
    "            if total == 0: AT.append(0)\n",
    "            else: AT.append(num/total)\n",
    "        elif idx == 3:\n",
    "            if total == 0: AI.append(0)\n",
    "            else: AI.append(num/total)\n",
    "        else: print(f\"?{q} {idx} {num}\")\n",
    "plt.figure(figsize=(10,10))\n",
    "plt.plot(test, AC)\n",
    "plt.plot(test, AG)\n",
    "plt.plot(test, AT)\n",
    "plt.plot(test, AI)\n",
    "\n",
    "    "
   ]
  },
  {
   "cell_type": "code",
   "execution_count": 147,
   "metadata": {},
   "outputs": [
    {
     "data": {
      "image/png": "[encoded data removed]",
      "text/plain": [
       "<Figure size 720x720 with 6 Axes>"
      ]
     },
     "metadata": {
      "needs_background": "light"
     },
     "output_type": "display_data"
    }
   ],
   "source": [
    "fig, axes = plt.subplots(3, 2, figsize=(10, 10))\n",
    "skip = {'A':0, 'C':1, 'G':2, 'T':3, '-':4}\n",
    "\n",
    "for nuc in ['A', 'C', 'G', 'T', '-']:\n",
    "    test = []\n",
    "    AT = []\n",
    "    AC = []\n",
    "    AG = []\n",
    "    AI = []\n",
    "\n",
    "    for q, freq in tracking[nuc].items():\n",
    "        test.append(q)\n",
    "        total = freq[0]\n",
    "        check = freq[1:]\n",
    "        check.pop(skip[nuc])\n",
    "        for idx, num in enumerate(check):\n",
    "            if idx == 0:\n",
    "                if total == 0: AC.append(0)\n",
    "                else: AC.append(num/total)\n",
    "            elif idx == 1:\n",
    "                if total == 0: AG.append(0)\n",
    "                else: AG.append(num/total)\n",
    "            elif idx == 2:\n",
    "                if total == 0: AT.append(0)\n",
    "                else: AT.append(num/total)\n",
    "            elif idx == 3:\n",
    "                if total == 0: AI.append(0)\n",
    "                else: AI.append(num/total)\n",
    "            else: continue\n",
    "    if nuc =='A':\n",
    "        axes[0,0].plot(test, AT)\n",
    "        axes[0,0].plot(test, AC)\n",
    "        axes[0,0].plot(test, AG)\n",
    "        axes[0,0].plot(test, AI)\n",
    "    elif nuc =='C':\n",
    "        axes[0,1].plot(test, AT)\n",
    "        axes[0,1].plot(test, AC)\n",
    "        axes[0,1].plot(test, AG)\n",
    "        axes[0,1].plot(test, AI)\n",
    "    elif nuc =='G':\n",
    "        axes[1,0].plot(test, AT)\n",
    "        axes[1,0].plot(test, AC)\n",
    "        axes[1,0].plot(test, AG)\n",
    "        axes[1,0].plot(test, AI)\n",
    "    elif nuc == 'T':\n",
    "        axes[1,1].plot(test, AT)\n",
    "        axes[1,1].plot(test, AC)\n",
    "        axes[1,1].plot(test, AG)\n",
    "        axes[1,1].plot(test, AI)\n",
    "    else:\n",
    "        axes[2,0].plot(test, AT)\n",
    "        axes[2,0].plot(test, AC)\n",
    "        axes[2,0].plot(test, AG)\n",
    "        axes[2,0].plot(test, AI)\n"
   ]
  },
  {
   "cell_type": "code",
   "execution_count": 6,
   "metadata": {},
   "outputs": [],
   "source": [
    "tracking = pickle.load( open('pickle/v2TrackingwRFP.pickle', 'rb'))"
   ]
  },
  {
   "cell_type": "markdown",
   "metadata": {},
   "source": [
    "### Plotting Nucleotide-specific Error Patterns"
   ]
  },
  {
   "cell_type": "code",
   "execution_count": null,
   "metadata": {},
   "outputs": [],
   "source": [
    "tracking_vocab = ['correct', 'A', 'C', 'G', 'T', '-']\n",
    "skip = {'A' : 0, 'C' : 1, 'G': 2, 'T': 3}\n",
    "associate = {0 : 'A', 1: 'C', 2: 'G', 3: 'T'}\n",
    "\n",
    "x = [i for i in np.arange(33, 126)]\n",
    "for nuc in ['A']:\n",
    "    ict = {'A' : [], 'C' : [], 'G' : [], 'T' : []} \n",
    "    for q, v in tracking[nuc].items():\n",
    "        if q < 45: continue\n",
    "        total = sum(v)\n",
    "        nuc_misreads = v[1:-1]\n",
    "        for idx, count in enumerate(nuc_misreads):\n",
    "            if idx == skip[nuc]:\n",
    "                continue\n",
    "            ict[associate[idx]].append(count)\n",
    "    for n in ['A', 'C', 'G', 'T']:\n",
    "        curr = ict[n]\n",
    "        if len(curr) < 2: continue\n",
    "        plt.plot(x, curr[:-1])\n",
    "        plt.legend(labels=[ 'C', 'G', 'T'])\n",
    "        plt.ylabel('Error Count')\n",
    "        plt.xlabel('Phred Quality Score')\n",
    "        plt.tight_layout()"
   ]
  },
  {
   "cell_type": "code",
   "execution_count": null,
   "metadata": {},
   "outputs": [],
   "source": [
    "x = [i for i in np.arange(39, 126)]\n",
    "for nuc in ['C']:\n",
    "    ict = {'A' : [], 'C' : [], 'G' : [], 'T' : []} \n",
    "    for q, v in tracking[nuc].items():\n",
    "        if q < 39: continue\n",
    "        total = sum(v)\n",
    "        nuc_misreads = v[1:-1]\n",
    "        for idx, count in enumerate(nuc_misreads):\n",
    "            if idx == skip[nuc]:\n",
    "                continue\n",
    "            ict[associate[idx]].append(count)\n",
    "    for n in ['A', 'C', 'G', 'T']:\n",
    "        curr = ict[n]\n",
    "        if len(curr) < 2: continue\n",
    "        plt.plot(x, curr[:-1])\n",
    "        plt.legend(labels=[ 'A', 'G', 'T'])\n",
    "        plt.ylabel('Error Count')\n",
    "        plt.xlabel('Phred Quality Score')\n",
    "        plt.tight_layout()"
   ]
  },
  {
   "cell_type": "code",
   "execution_count": null,
   "metadata": {},
   "outputs": [],
   "source": [
    "\n",
    "for nuc in ['G']:\n",
    "    ict = {'A' : [], 'C' : [], 'G' : [], 'T' : []} \n",
    "    for q, v in tracking[nuc].items():\n",
    "        if q < 39: continue\n",
    "        total = sum(v)\n",
    "        nuc_misreads = v[1:-1]\n",
    "        for idx, count in enumerate(nuc_misreads):\n",
    "            if idx == skip[nuc]:\n",
    "                continue\n",
    "            ict[associate[idx]].append(count)\n",
    "    for n in ['A', 'C', 'G', 'T']:\n",
    "        curr = ict[n]\n",
    "        if len(curr) < 2: continue\n",
    "        plt.plot(x, curr[:-1])\n",
    "        plt.legend(labels=[ 'A', 'C', 'T'])\n",
    "        plt.ylabel('Error Count')\n",
    "        plt.xlabel('Phred Quality Score')  \n",
    "        plt.tight_layout()"
   ]
  },
  {
   "cell_type": "code",
   "execution_count": null,
   "metadata": {},
   "outputs": [],
   "source": [
    "for nuc in ['T']:\n",
    "    ict = {'A' : [], 'C' : [], 'G' : [], 'T' : []} \n",
    "    for q, v in tracking[nuc].items():\n",
    "        if q < 39: continue\n",
    "        total = sum(v)\n",
    "        nuc_misreads = v[1:-1]\n",
    "        for idx, count in enumerate(nuc_misreads):\n",
    "            if idx == skip[nuc]:\n",
    "                continue\n",
    "            ict[associate[idx]].append(count)\n",
    "    for n in ['A', 'C', 'G', 'T']:\n",
    "        curr = ict[n]\n",
    "        if len(curr) < 2: continue\n",
    "        plt.plot(x, curr[:-1])\n",
    "        plt.legend(labels=[ 'A', 'C', 'G'])\n",
    "        plt.ylabel('Error Count')\n",
    "        plt.xlabel('Phred Quality Score')"
   ]
  },
  {
   "cell_type": "markdown",
   "metadata": {},
   "source": [
    "### VISUALIZE: Real Error of z and yyy\n",
    "\n",
    "#### Z Conflicts\n",
    "\n",
    "- Currently: Plot total wrong / all instances of reads vs true\n",
    "- Line of best fit plotted at Q > 45\n"
   ]
  },
  {
   "cell_type": "code",
   "execution_count": 248,
   "metadata": {},
   "outputs": [],
   "source": [
    "# Let's start basic\n",
    "# Just 'A' and total wrong\n",
    "# Remember that 33 is useless. 32 does not exist.\n",
    "to_plot = {'A' : [], 'C' : [], 'G' : [], 'T' : []}\n",
    "\n",
    "\n",
    "raw_x = [i for i in np.arange(35, 127)] #34 is 0 in test\n",
    "\n",
    "for n in ['A', 'C', 'G', 'T']:\n",
    "    raw_y = []\n",
    "    focus = tracking[n]\n",
    "    for i in focus.keys():\n",
    "        if i < 35: continue\n",
    "        stats = focus.get(i)\n",
    "        total = sum(stats)\n",
    "        wrong = sum(stats[1:])\n",
    "        if total == 0:\n",
    "            raw_y.append(0)\n",
    "        else: raw_y.append(wrong/total)\n",
    "    to_plot[n] = raw_y\n",
    "\n",
    "\n"
   ]
  },
  {
   "cell_type": "markdown",
   "metadata": {},
   "source": [
    "Take the log if non-zero. Motive: linear graph"
   ]
  },
  {
   "cell_type": "code",
   "execution_count": 254,
   "metadata": {},
   "outputs": [],
   "source": [
    "%matplotlib inline\n",
    "import math\n",
    "import matplotlib.pyplot as plt\n",
    "\n",
    "for nuc in ['A', 'C', 'G', 'T']:\n",
    "    to_change = to_plot[nuc]\n",
    "    for i in range(len(to_change)):\n",
    "        if to_change[i] == 0: \n",
    "            to_change[i] = 0 \n",
    "        else: \n",
    "            to_change[i] = math.log(to_change[i])\n"
   ]
  },
  {
   "cell_type": "markdown",
   "metadata": {},
   "source": [
    "Fill in missing values with a mean (only present at low sample sizes)"
   ]
  },
  {
   "cell_type": "code",
   "execution_count": 80,
   "metadata": {},
   "outputs": [],
   "source": [
    "for nuc in ['A', 'C', 'G', 'T']:\n",
    "    fix = to_plot[nuc]\n",
    "    for i in range(len(fix)):\n",
    "        if fix[i] == 0:\n",
    "            fix[i] = 0.5*(fix[i-1]+fix[i+1])"
   ]
  },
  {
   "cell_type": "markdown",
   "metadata": {},
   "source": [
    "Plot the 4 nucleotides "
   ]
  },
  {
   "cell_type": "code",
   "execution_count": null,
   "metadata": {},
   "outputs": [],
   "source": [
    "fig, axes = plt.subplots(2,2, sharex=True, sharey=True, figsize=(10,10))\n",
    "plt.subplots_adjust(wspace=0,hspace=0)\n",
    "\n",
    "axes[0,0].scatter(raw_x, to_plot['A'], c='red',s=12)\n",
    "axes[0,1].scatter(raw_x, to_plot['C'], c='blue', s=12)\n",
    "axes[1,0].scatter(raw_x, to_plot['G'], c='green',s=12)\n",
    "axes[1,1].scatter(raw_x, to_plot['T'], c='purple',s=12)\n",
    "\n",
    "# Needs to be calculated below\n",
    "# axes[0,0].scatter(x, lobA, c='black')\n",
    "# axes[0,1].scatter(x, lobC, c='black')\n",
    "# axes[1,0].scatter(x, lobG, c='black')\n",
    "# axes[1,1].scatter(x, lobT, c='black')\n",
    "\n",
    "# # Check something...\n",
    "# for i in range(2):\n",
    "#     for j in range(2):\n",
    "#         axes[i,j].hlines(0.01, 35, 126)\n",
    "\n",
    "labels = ['A', 'C', 'G', 'T']\n",
    "# labels_with_lobf = ['A', '_lobfA', 'C', '_lobfC',  'G', '_lobfG',  'T', '1e-2']\n",
    "fig.legend(labels=labels, loc=\"right\")\n",
    "fig.suptitle('Associating Error Rate with Phred Q Score (n=455,157)', fontsize=25)\n",
    "fig.supxlabel('Phred Q scores', fontsize=20)\n",
    "fig.supylabel('Log_10 Adjusted Real Error Rate', fontsize=20)\n",
    "# fig.supylabel('Real Error Rate', fontsize=20)\n",
    "\n",
    "\n",
    "\n"
   ]
  },
  {
   "cell_type": "code",
   "execution_count": 242,
   "metadata": {},
   "outputs": [
    {
     "data": {
      "text/plain": [
       "100053"
      ]
     },
     "execution_count": 242,
     "metadata": {},
     "output_type": "execute_result"
    }
   ],
   "source": [
    "# count = 0\n",
    "# for rfp in rfp_list:\n",
    "#     if int((len(rfp.columns)-4)/2) > 3:\n",
    "#         count += 1\n",
    "# count"
   ]
  },
  {
   "cell_type": "markdown",
   "metadata": {},
   "source": [
    "### Line of best fits\n",
    "- Calculated using ML and after Q = 45\n"
   ]
  },
  {
   "cell_type": "code",
   "execution_count": 94,
   "metadata": {},
   "outputs": [
    {
     "name": "stdout",
     "output_type": "stream",
     "text": [
      "59\n"
     ]
    }
   ],
   "source": [
    "# Assessing if contig is a viable thing to use for RFP Truth\n",
    "for x,rfp in enumerate(rfp_list):\n",
    "    if DNA_seqs.get_coverage_count(x+1) > 3:\n",
    "        if rfp.empty: continue\n",
    "        muts = rfp['changes']\n",
    "        if len(muts[muts==122]) > 1:\n",
    "            print(x+1)\n",
    "            break"
   ]
  },
  {
   "cell_type": "markdown",
   "metadata": {},
   "source": [
    "Using torch to calculate line of best fit"
   ]
  },
  {
   "cell_type": "code",
   "execution_count": 168,
   "metadata": {},
   "outputs": [],
   "source": [
    "# Desired func y = mx + b => # params are m, b\n",
    "import torch\n",
    "p = torch.randn(2).requires_grad_()"
   ]
  },
  {
   "cell_type": "code",
   "execution_count": 169,
   "metadata": {},
   "outputs": [],
   "source": [
    "x = torch.tensor(np.arange(46, 127)).long()\n",
    "yA = torch.tensor(to_plot['A'][11:]).float()\n",
    "yC = torch.tensor(to_plot['C'][11:]).float()\n",
    "yG = torch.tensor(to_plot['G'][11:]).float()\n",
    "yT = torch.tensor(to_plot['T'][11:]).float()\n",
    "\n",
    "class Dataset(torch.utils.data.Dataset):\n",
    "    def __init__(self, x, y):\n",
    "        super().__init__()\n",
    "        self.x,self.y = x,y\n",
    "        self.len = len(x)\n",
    "        \n",
    "    def __len__(self): return self.len\n",
    "    \n",
    "    def __getitem__(self, idx): return self.x[idx], self.y[idx]\n",
    "\n",
    "testdsA = torch.utils.data.DataLoader(Dataset(x,yA), batch_size=3)\n",
    "testdsC = torch.utils.data.DataLoader(Dataset(x,yC), batch_size=5)\n",
    "testdsG = torch.utils.data.DataLoader(Dataset(x,yG), batch_size=5)\n",
    "testdsT = torch.utils.data.DataLoader(Dataset(x,yT), batch_size=5)"
   ]
  },
  {
   "cell_type": "code",
   "execution_count": null,
   "metadata": {},
   "outputs": [],
   "source": [
    "def func(params, input):\n",
    "    a, b = params\n",
    "    return a*input + b\n",
    "\n",
    "import torch.functional as F\n",
    "from fastai.vision.all import *\n",
    "from fastbook import *\n",
    "\n",
    "def loss_func(pred, targ):\n",
    "    # Let's use RMSE\n",
    "    return ((pred-targ)**2).sqrt()\n",
    "\n",
    "lr = 1e-5\n",
    "for i in range(1000):\n",
    "    loss_total = 0\n",
    "    n_obs = 0\n",
    "    for xin, yin in testdsT:\n",
    "        \n",
    "        pred = func(p, xin)\n",
    "        loss = loss_func(pred, yin).mean()\n",
    "        \n",
    "        loss.backward() \n",
    "        p.data -= p.grad.data * lr\n",
    "        p.grad = None\n",
    "        \n",
    "        n = len(xin)\n",
    "        loss_total += loss.item()*n\n",
    "        n_obs +=n\n",
    "        \n",
    "    print(loss_total/n_obs)"
   ]
  },
  {
   "cell_type": "code",
   "execution_count": 178,
   "metadata": {},
   "outputs": [],
   "source": [
    "def f(x):\n",
    "    a,b =p.data\n",
    "    return a*x+b"
   ]
  },
  {
   "cell_type": "markdown",
   "metadata": {},
   "source": []
  },
  {
   "cell_type": "code",
   "execution_count": 183,
   "metadata": {},
   "outputs": [],
   "source": [
    "lobT = []\n",
    "for i in x:\n",
    "    lobT.append(f(i))"
   ]
  },
  {
   "cell_type": "markdown",
   "metadata": {},
   "source": [
    "#### YYY Conflicts\n",
    "\n",
    "- Two main categories:\n",
    "    - Insertion (Target, non-agreeing reads have '-' for alignment)\n",
    "    - Deletion  (Only read has '-' for alignment) \n",
    "\n",
    "&nbsp;\n",
    "\n",
    "\n",
    "- Insertion types:\n",
    "    - Misaligned multi-insertions \n",
    "        - e.g. aligned as G-GG-AG / G**G**G*A*GAG when it should be GGG--AG / GGG**AG**AG) \n",
    "    - Multi-insertions (G--G / GAAG)\n",
    "        - [4y+]\n",
    "    - **Harmonious** Insert\n",
    "        - Matches left AND right\n",
    "    - **1x Discord** Insert\n",
    "        - Matches left OR right nuc\n",
    "    - **2x Discord** Insert\n",
    "        - No match with left OR right\n",
    "<br>      \n",
    "&nbsp;\n",
    "- Deletion types: (Note: the thing that *matches* is the truth that was deleted)\n",
    "    - **Harmonious** del\n",
    "        - Matches left AND right nuc\n",
    "    - **1X Discord** del \n",
    "        - Matches left OR right nuc \n",
    "    - **2x Discord** del \n",
    "        - No match with left OR right [e.g. A-G when others say A**C**G]"
   ]
  },
  {
   "cell_type": "markdown",
   "metadata": {},
   "source": [
    "Checking Difference in Error Counts between Nucleotides\n",
    "- Not shown: spikes at Q=126\n",
    "    - A ~ 20,000; C,G ~ 18,000; T ~ 10,000"
   ]
  },
  {
   "cell_type": "code",
   "execution_count": null,
   "metadata": {},
   "outputs": [],
   "source": [
    "tracking_vocab = ['correct', 'A', 'C', 'G', 'T', '-']\n",
    "tracking['A']\n",
    "\n",
    "for nuc in ['A', 'C', 'G', 'T']:\n",
    "    error_frequency = []\n",
    "    for q, v in tracking[nuc].items():\n",
    "        if q > 34:\n",
    "            error_frequency.append(sum(v[1:]))\n",
    "    q_related = [x for x in np.arange(35, 126)]\n",
    "    plt.plot(q_related, error_frequency[:-1])\n",
    "    # print(np.argmax(error_frequency[:-1]), max(error_frequency[:-1]))\n",
    "    # print(error_frequency[2])\n",
    "plt.legend(labels=['A', 'C', 'G', 'T'])\n",
    "plt.ylabel('Error Count')\n",
    "plt.xlabel('Phred Quality Score')\n",
    "    # max_freq = max(error_frequency[:-1])\n",
    "    # norm = [item/max_freq for item in error_frequency[:-1]]\n",
    "    # plt.plot(q_related, norm)\n",
    "    # plt.text(126, error_frequency[-1]-20_000, \"%d\" %error_frequency[-1] + nuc, ha=\"right\")"
   ]
  },
  {
   "cell_type": "markdown",
   "metadata": {},
   "source": [
    "&nbsp;\n",
    "\n",
    "**Resolution**\n",
    "- No Q score difference:\n",
    "    - (! is an insert) \\~\\~\\~ vs. ~!~ => \\~\\~\\~ wins\n"
   ]
  },
  {
   "cell_type": "code",
   "execution_count": null,
   "metadata": {},
   "outputs": [],
   "source": [
    "# Search for where there are y conflicts (once the first y is found. Keep checking \"changes\" column along nuc++ until a non-y char is found)\n",
    "# Return the view of BFP or RFP with the continuous chunk of y's\n",
    "\n",
    "def is_insertion(df):\n",
    "    if (df['targ'][df['targ'] == 45]).empty: # If the target has NO indels\n",
    "        return True # Means it's a INSERTION\n",
    "    return False\n",
    "\n",
    "def is_harmonious(df, coverage):\n",
    "    for num in range(1, coverage+1):\n",
    "        read = df[f'read{num}']\n",
    "         \n",
    "    "
   ]
  },
  {
   "cell_type": "markdown",
   "metadata": {},
   "source": [
    "## Training a LogReg model"
   ]
  },
  {
   "cell_type": "markdown",
   "metadata": {},
   "source": []
  },
  {
   "cell_type": "code",
   "execution_count": null,
   "metadata": {},
   "outputs": [],
   "source": [
    "import torch\n",
    "import torch.nn as nn\n",
    "import torch.nn.functional as F\n",
    "\n",
    "class ZConflicts(torch.utils.data.Dataset):\n",
    "    \n",
    "    def __init__(self, x, y):\n",
    "        pass\n",
    "        \n",
    "class LinReg(nn.Module):\n",
    "    \n",
    "    def __init__(self):\n",
    "        super().__init__()\n",
    "        pass\n",
    "    def forward(self, x):\n",
    "        pass\n",
    "        "
   ]
  }
 ],
 "metadata": {
  "interpreter": {
   "hash": "7e45b5fe9540dcae422003c6a552f47067b28c6171ef36dc1ede64a9e99e7c78"
  },
  "kernelspec": {
   "display_name": "Python 3.8.10 ('venv')",
   "language": "python",
   "name": "python3"
  },
  "language_info": {
   "codemirror_mode": {
    "name": "ipython",
    "version": 3
   },
   "file_extension": ".py",
   "mimetype": "text/x-python",
   "name": "python",
   "nbconvert_exporter": "python",
   "pygments_lexer": "ipython3",
   "version": "3.8.10"
  },
  "orig_nbformat": 4
 },
 "nbformat": 4,
 "nbformat_minor": 2
}
