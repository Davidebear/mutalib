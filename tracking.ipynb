{
 "cells": [
  {
   "cell_type": "code",
   "execution_count": 1,
   "metadata": {},
   "outputs": [],
   "source": [
    "from sbhandler import *\n",
    "import pickle"
   ]
  },
  {
   "cell_type": "code",
   "execution_count": 2,
   "metadata": {},
   "outputs": [],
   "source": [
    "# load_matlab_file function Testing\n",
    "file_name = 'consensus1.mat'\n",
    "variable_of_interest = 'align3'\n",
    "h5py_object, data = load_matlab_file(file_name, variable_name=variable_of_interest)\n",
    "\n",
    "# DNA_seqs can be used to grab each raw_seqblock\n",
    "DNA_seqs = DNA_SeqBlocks(h5py_object=h5py_object, data=data) \n",
    "\n",
    "FILE_SIZE = DNA_seqs.size #Constant"
   ]
  },
  {
   "cell_type": "code",
   "execution_count": 3,
   "metadata": {},
   "outputs": [],
   "source": [
    "# Load in barcodes and truelens for the day\n",
    "df = pickle.load(open('pickle/v2BarcodesTruelen.pickle', 'rb'))\n",
    "BARCODES = df.barcode\n",
    "TRUELENS = df.true_len"
   ]
  },
  {
   "cell_type": "code",
   "execution_count": 4,
   "metadata": {},
   "outputs": [],
   "source": [
    "# Make sure it works on a small dataset first.\n",
    "tinyDS = range(1, 10001)\n",
    "DS = range(1, FILE_SIZE+1)"
   ]
  },
  {
   "cell_type": "code",
   "execution_count": 5,
   "metadata": {},
   "outputs": [],
   "source": [
    "# Load 'em in \n",
    "bfp_list = pickle.load( open('pickle/raw_bfp.pickle', 'rb'))\n",
    "rfp_list = pickle.load( open('pickle/raw_rfp.pickle', 'rb'))"
   ]
  },
  {
   "cell_type": "code",
   "execution_count": 6,
   "metadata": {},
   "outputs": [],
   "source": [
    "def is_deletion(df, idx, rfp=False):\n",
    "    if rfp:\n",
    "        if df['contig'].iloc[idx] != 45: return True\n",
    "        return False\n",
    "    if df['target'].iloc[idx] != 45: return True\n",
    "    return False\n",
    "\n",
    "def is_concord_del(df, idx, read_len, rfp=False):\n",
    "    if idx + 1 == read_len or idx == 0: return False\n",
    "    if rfp:\n",
    "        if df['contig'].iloc[idx+1] == df['contig'].iloc[idx-1]: return True\n",
    "        return False\n",
    "    if df['target'].iloc[idx+1] == df['target'].iloc[idx-1]: return True\n",
    "    return False\n",
    "    \n",
    "def is_single_insert(df, idx, read_len, rfp=False):\n",
    "    if idx + 1 == read_len or idx == 0: return False\n",
    "    if rfp:\n",
    "        if df['contig'].iloc[idx+1] != 45 and df['contig'].iloc[idx-1] != 45: return True\n",
    "        return False\n",
    "    if df['target'].iloc[idx+1] != 45 and df['target'].iloc[idx-1] != 45: return True\n",
    "    return False\n",
    "    \n",
    "def is_concord_insert(read, idx):\n",
    "    sandwich = nuc_sandwich(read, idx)\n",
    "    if sandwich[0] == sandwich[1]: return True\n",
    "    return False\n"
   ]
  },
  {
   "cell_type": "code",
   "execution_count": 7,
   "metadata": {},
   "outputs": [],
   "source": [
    "# Functions made for 'Sequencing Error Rates' block\n",
    "def truncate_start(read):\n",
    "    idx = 0\n",
    "    if len(read) > 2 and read.iloc[0] == 45: # if it starts with an indel\n",
    "        idx = 1\n",
    "        while (idx < len(read) and read.iloc[idx] == 45):\n",
    "            # if (idx > 0 and idx % 100 == 0): print(bfp.index.name)\\\n",
    "            idx += 1\n",
    "    return idx\n",
    "\n",
    "def truncate_end(read, idx):\n",
    "    len_read = len(read)\n",
    "    end = len_read\n",
    "    if len_read < 4: return end # Surprisingly this was needed.\n",
    "    if (read[-3:] == [45, 45, 45]).all():\n",
    "        end = len_read - 3\n",
    "        while idx < (end) and read.iloc[end] == 45: # POTENTIAL BUG: Trying while idx < end, instead of idx < end - 1\n",
    "            end -= 1\n",
    "    return end\n",
    "\n",
    "def nuc_sandwich(read, idx):\n",
    "    if len(read) > idx + 1 and idx > 0:\n",
    "        left = read.iloc[idx-1]\n",
    "        right = read.iloc[idx+1]\n",
    "        lidx = idx-2\n",
    "        ridx = idx+2\n",
    "        while lidx >= 0 and left == 45:\n",
    "            left = read.iloc[lidx]\n",
    "            lidx -= 1\n",
    "        while ridx + 1 < len(read) and right == 45:\n",
    "            right = read.iloc[ridx]\n",
    "            ridx += 1\n",
    "        left = chr(left)\n",
    "        right = chr(right)\n",
    "        return str(left+right)\n",
    "    print(read, idx)\n",
    "    return 'None'\n",
    "\n",
    "def idx_del(read, idx):\n",
    "    # initialize\n",
    "    left = read.iloc[idx]\n",
    "    right = read.iloc[idx]\n",
    "    lidx = idx\n",
    "    ridx = idx\n",
    "    \n",
    "    while lidx >= 0 and left == 45:\n",
    "        lidx -= 1\n",
    "        left = read.iloc[lidx]\n",
    "    while ridx + 1 < len(read) and right == 45:\n",
    "        right = read.iloc[ridx]\n",
    "        ridx += 1\n",
    "    return lidx+1, ridx-1 # gives the exact .iloc[] of where the deletions are\n",
    "\n",
    "def idx_ins(df, idx, rfp=False): #same inner mechanics as idx_del but uses target to find \n",
    "    if rfp:\n",
    "        return idx_del(df['contig'], idx)\n",
    "    return idx_del(df['target'], idx)\n",
    "\n",
    "def get_trunc_range(read):\n",
    "    idx = truncate_start(read)\n",
    "    end = truncate_end(read, idx)\n",
    "    return range(idx, end)\n",
    "    \n",
    "def get_cov(df): return int((len(df.columns)-4)/2)\n",
    "\n",
    "def get_yBlock(df, read, idx, rfp=False): pass\n",
    "\n",
    "def isFalseInDel(df, read, idx, rfp=False, conditional = False): # Done. Checks target and read to see if they are both indels\n",
    "    if conditional:\n",
    "        if df.iloc[idx] == 45 and read.iloc[idx] == 45: return True\n",
    "        return False\n",
    "    \n",
    "    if rfp:\n",
    "        if df['contig'].iloc[idx] == 45 and read.iloc[idx] == 45: return True\n",
    "        return False\n",
    "    if df['target'].iloc[idx] == 45 and read.iloc[idx] == 45: return True\n",
    "    return False\n",
    "# Which major yyy conflict?\n",
    "def isDel(df, read, idx, rfp=False, conditional=False): # Checks if targ doesn't have an indel where the read has one.\n",
    "    if conditional:\n",
    "        if df.iloc[idx] != 45 and read.iloc[idx] == 45: return True\n",
    "        return False\n",
    "    \n",
    "    if rfp:\n",
    "        if df['contig'].iloc[idx] != 45 and read.iloc[idx] == 45: return True\n",
    "        return False\n",
    "    if df['target'].iloc[idx] != 45 and read.iloc[idx] == 45: return True\n",
    "    return False\n",
    "\n",
    "def isIns(df, read, idx, rfp=False, conditional=False): # Checks if targ has an indel where a read has a NUC.\n",
    "    print('Use isDel')\n",
    "    if conditional:\n",
    "        if df.iloc[idx] == 45 and read.iloc[idx] != 45: return True\n",
    "        return False\n",
    "    \n",
    "    if rfp:\n",
    "        if df['contig'].iloc[idx] == 45 and read.iloc[idx] != 45: return True\n",
    "        return False\n",
    "    if df['target'].iloc[idx] == 45 and read.iloc[idx] != 45: return True\n",
    "    return False\n",
    "# Single or Multi?\n",
    "def isSingleDel(read, idx): # Checks if read has only one indel.\n",
    "    if read.iloc[idx+1] != 45 and read.iloc[idx-1] != 45: return True\n",
    "    return False\n",
    "\n",
    "def isSingleIns(df, idx, rfp=False, conditional=False): # Checks if target has only one indel.\n",
    "    if conditional:\n",
    "        if df.iloc[idx+1] != 45 and df.iloc[idx-1] != 45: return True\n",
    "        return False\n",
    "    \n",
    "    if rfp:\n",
    "        if df['contig'].iloc[idx+1] != 45 and df['contig'].iloc[idx-1] != 45: return True\n",
    "        return False\n",
    "    if df['target'].iloc[idx+1] != 45 and df['target'].iloc[idx-1] != 45: return True\n",
    "    return False\n",
    "# How big is the Multi? (False^)\n",
    "def countDel(read, idx): # Retruns the count of dels in a multiple deletion\n",
    "    count = 1\n",
    "    left = read.iloc[idx-1]\n",
    "    right = read.iloc[idx+1]\n",
    "    lidx = idx\n",
    "    ridx = idx\n",
    "    while lidx >= 0 and left == 45:\n",
    "        lidx -= 1\n",
    "        left = read.iloc[lidx]\n",
    "        if left == 45: count += 1\n",
    "    while ridx + 1 < len(read) and right == 45:\n",
    "        ridx += 1\n",
    "        right = read.iloc[ridx]\n",
    "        if right == 45: count += 1\n",
    "    return count\n",
    "\n",
    "def countIns(targ, idx): # Returns the count of ins in a multi ins.\n",
    "    count = 1\n",
    "    left = targ.iloc[idx-1]\n",
    "    right = targ.iloc[idx+1]\n",
    "    lidx = idx\n",
    "    ridx = idx\n",
    "    while lidx >= 0 and left == 45:\n",
    "        lidx -= 1\n",
    "        left = targ.iloc[lidx]\n",
    "        if left == 45: count += 1\n",
    "    while ridx + 1 < len(targ) and right == 45:\n",
    "        ridx += 1\n",
    "        right = targ.iloc[ridx]\n",
    "        if right == 45: count += 1\n",
    "    return count\n"
   ]
  },
  {
   "cell_type": "markdown",
   "metadata": {},
   "source": [
    "## GET BFP-parsed seqblocks"
   ]
  },
  {
   "cell_type": "code",
   "execution_count": null,
   "metadata": {},
   "outputs": [],
   "source": [
    "# bfp_list = []\n",
    "# rfp_list = []\n",
    "\n",
    "# for i in DS:\n",
    "#     end = TRUELENS[i]\n",
    "#     b, r = DNA_seqs.get_br(i, end)\n",
    "#     bfp_list.append(b)\n",
    "#     rfp_list.append(r)"
   ]
  },
  {
   "cell_type": "code",
   "execution_count": 6,
   "metadata": {},
   "outputs": [],
   "source": [
    "# with open('pickle/raw_bfp.pickle', 'wb') as f:\n",
    "#     pickle.dump(bfp_list, f)\n",
    "\n",
    "# with open('pickle/raw_rfp.pickle', 'wb') as f:\n",
    "#     pickle.dump(rfp_list, f)"
   ]
  },
  {
   "cell_type": "markdown",
   "metadata": {},
   "source": [
    "### Support of Nucleotides (RFP and BFP)"
   ]
  },
  {
   "cell_type": "markdown",
   "metadata": {},
   "source": [
    "[0.27, 0.30, 0.27, 0.16, 0.00] BFP\n",
    "\n",
    "[0.23, 0.32, 0.31, 0.15, 0.00] RFP"
   ]
  },
  {
   "cell_type": "code",
   "execution_count": null,
   "metadata": {},
   "outputs": [],
   "source": [
    "bfp_targ_counter = dict(zip(['A', 'C', 'G', 'T', '-'], [0]*5))\n",
    "bfp_read_counter = dict(zip(['A', 'C', 'G', 'T', '-'], [0]*5))\n",
    "\n",
    "for n, bfp in enumerate(bfp_list[0:50_000]):\n",
    "    if n % 3550 == 0: print(f'{100*(n/355104):.0f}%')\n",
    "    if bfp.empty: continue\n",
    "    targ = bfp['target']\n",
    "    idx = 0\n",
    "    if len(targ) > 2 and targ.iloc[0] == 45: # if it starts with an indel\n",
    "        idx = 1\n",
    "        while (targ.iloc[idx] == 45) and idx < len(targ):\n",
    "            idx += 1\n",
    "    for num in range(idx, len(targ)):\n",
    "        bfp_targ_counter[chr(targ.iloc[num])] += 1\n",
    "    cov = int( (len(bfp.columns) -4 )/2)\n",
    "    for r in range(cov):\n",
    "        read = bfp[f'read{r+1}']\n",
    "        idx = 0\n",
    "        if len(read) > 2 and read.iloc[0] == 45: # if it starts with an indel\n",
    "            # print(len(read))\n",
    "            idx = 1\n",
    "            while (idx < len(read) and read.iloc[idx] == 45):\n",
    "                # if (idx > 0 and idx % 100 == 0): print(bfp.index.name)\n",
    "    \n",
    "                idx += 1\n",
    "        for num in range(idx, len(read)):\n",
    "            bfp_read_counter[chr(read.iloc[num])] += 1\n",
    "\n",
    "\n",
    "total_btc = sum(bfp_targ_counter.values())            \n",
    "for nuc, val in bfp_targ_counter.items():\n",
    "    print(f'{nuc}: {val/total_btc:.2f}')\n",
    "    print('\\n')\n",
    "total_brc = sum(bfp_read_counter.values())\n",
    "for nuc, val in bfp_read_counter.items():\n",
    "    print(f'{nuc}: {val/total_brc:.2f}')\n"
   ]
  },
  {
   "cell_type": "code",
   "execution_count": null,
   "metadata": {},
   "outputs": [],
   "source": [
    "rfp_targ_counter = dict(zip(['A', 'C', 'G', 'T', '-'], [0]*5))\n",
    "rfp_read_counter = dict(zip(['A', 'C', 'G', 'T', '-'], [0]*5))\n",
    "\n",
    "for n, rfp in enumerate(rfp_list[0::50]):\n",
    "    # print(n*50)\n",
    "    if n % 3550 == 0: print(f'{n/355104:.2f}%')\n",
    "    if rfp.empty: continue\n",
    "    \n",
    "    cov = int( (len(rfp.columns) -4 )/2)\n",
    "    if cov > 3: \n",
    "        targ = rfp['contig']\n",
    "        idx = 0\n",
    "        len_targ = len(targ)\n",
    "        if len(targ) > 1 and targ.iloc[0] == 45: # if it starts with an indel\n",
    "            idx = 1\n",
    "            while ( idx < len_targ and targ.iloc[idx] == 45):\n",
    "                idx += 1\n",
    "        for num in range(idx, len_targ):\n",
    "            rfp_targ_counter[chr(targ.iloc[num])] += 1\n",
    "    \n",
    "    for r in range(cov):\n",
    "        read = rfp[f'read{r+1}']\n",
    "        idx = 0\n",
    "        len_read = len(read)\n",
    "        if len_read > 2 and read.iloc[0] == 45: # if it starts with an indel\n",
    "            # print(len(read))\n",
    "            idx = 1\n",
    "            while (idx < len_read and read.iloc[idx] == 45):\n",
    "                # if (idx > 0 and idx % 100 == 0): print(rfp.index.name)\n",
    "    \n",
    "                idx += 1\n",
    "        end = len_read\n",
    "        if (read[-3:] == [45, 45, 45]).all():\n",
    "            end = len_read - 4\n",
    "            while idx < (end - 1) and read.iloc[end] == 45:\n",
    "                end = end - 1\n",
    "            \n",
    "        for num in range(idx, end): \n",
    "            rfp_read_counter[chr(read.iloc[num])] += 1\n",
    "\n",
    "total_rtc = sum(rfp_targ_counter.values())            \n",
    "for nuc, val in rfp_targ_counter.items():\n",
    "    print(f'{nuc}: {val/total_rtc:.2f}')\n",
    "print('\\n')\n",
    "total_rrc = sum(rfp_read_counter.values())\n",
    "for nuc, val in rfp_read_counter.items():\n",
    "    print(f'{nuc}: {val/total_rrc:.2f}')"
   ]
  },
  {
   "cell_type": "markdown",
   "metadata": {},
   "source": [
    "#### QSCORE_FUNCS_TO_TEST"
   ]
  },
  {
   "cell_type": "code",
   "execution_count": 8,
   "metadata": {},
   "outputs": [],
   "source": [
    "def get_lr(df, read, idx, cov):\n",
    "    if idx +1 < len(read) and idx > 0:\n",
    "        if cov < 10: the_number = read.name[-1]\n",
    "        else: \n",
    "            try: the_number = int(read.name[-2:])\n",
    "            except: the_number = read.name[-1]\n",
    "            \n",
    "        left = df[f'q{the_number}'].iloc[idx-1]\n",
    "        right = df[f'q{the_number}'].iloc[idx+1]\n",
    "        lidx = idx-2\n",
    "        ridx = idx+2\n",
    "        while lidx >= 0 and left == 33:\n",
    "            left = df[f'q{the_number}'].iloc[lidx]\n",
    "            lidx -= 1\n",
    "        while ridx + 1 < len(read) and right == 33:\n",
    "            right = df[f'q{the_number}'].iloc[ridx]\n",
    "            ridx += 1\n",
    "        return left, right    \n",
    "    return -1, -1\n",
    "\n",
    "def use_inverse_sum(df, read, idx, cov):\n",
    "    left, right = get_lr(df, read, idx, cov)\n",
    "    if left != -1:\n",
    "        return int(2*((1)/((1/left)+(1/right))))\n",
    "    else: \n",
    "        return 33\n",
    "    \n",
    "def use_min(df, read, idx, cov):\n",
    "    l, r = get_lr(df, read, idx, cov)\n",
    "    if l != -1: return np.min([l, r])\n",
    "    return 33\n",
    "\n",
    "def use_max(df, read, idx, cov):\n",
    "    l, r = get_lr(df, read, idx, cov)\n",
    "    if l != -1: return np.max([l, r])\n",
    "    return 33\n",
    "\n",
    "def use_geo_mean(df, read, idx, cov):\n",
    "    l, r = get_lr(df, read, idx, cov)\n",
    "    if l != -1: return np.sqrt(l*r)\n",
    "    return 33\n",
    "\n",
    "def use_arith_mean(df, read, idx, cov):\n",
    "    l, r = get_lr(df, read, idx, cov)\n",
    "    if l != -1: return np.mean([l, r])\n",
    "    return 33\n",
    "\n",
    "def each_read(original_df, cov):\n",
    "    \"\"\"Returns list of all reads for a df\n",
    "\n",
    "    Args:\n",
    "        original_df (_type_): _description_\n",
    "\n",
    "    Returns:\n",
    "        _type_: _description_\n",
    "    \"\"\"\n",
    "    each_read = []\n",
    "    for read_num in range(1, cov+1):\n",
    "        each_read.append(original_df[f'read{read_num}'])\n",
    "    return each_read\n",
    "\n",
    "def list_read(original_df, cov):\n",
    "    return [f'read{read_num}' for read_num in range(1, cov+1)]\n",
    "    "
   ]
  },
  {
   "cell_type": "markdown",
   "metadata": {},
   "source": [
    "### Sequencing Error Rates? Reflect by adjusting the Q score\n",
    "- Truth known. What is it being mistaken for? \n",
    "- Create a 5x5 matrix"
   ]
  },
  {
   "cell_type": "markdown",
   "metadata": {},
   "source": [
    "Obtain the frequency of correct vs error"
   ]
  },
  {
   "cell_type": "code",
   "execution_count": 43,
   "metadata": {},
   "outputs": [],
   "source": [
    "snips = {'A' : {i : [0,0,0,0,0] for i in np.arange(33,127)},\n",
    "         'C' : {i : [0,0,0,0,0] for i in np.arange(33,127)},\n",
    "         'G' : {i : [0,0,0,0,0] for i in np.arange(33,127)},\n",
    "         'T' : {i : [0,0,0,0,0] for i in np.arange(33,127)}}\n",
    "            \n",
    "indels = {'A' : {i : [0,0,0,0,0,0] for i in np.arange(33,127)},\n",
    "            'C' : {i : [0,0,0,0,0,0] for i in np.arange(33,127)},\n",
    "            'G' : {i : [0,0,0,0,0,0] for i in np.arange(33,127)},\n",
    "            'T' : {i : [0,0,0,0,0,0] for i in np.arange(33,127)},\n",
    "            '-' : {i : [0,0,0,0,0,0] for i in np.arange(33,127)}}\n",
    "\n",
    "def hot_encode(num):\n",
    "    if num == 65: return 1\n",
    "    elif num == 67: return 2\n",
    "    elif num == 71: return 3\n",
    "    elif num == 84: return 4\n",
    "    else: return 5\n",
    "\n",
    "# If idx = 0 does not equal correct\n",
    "def raw_hot_encode(num):\n",
    "    if num == 65: return 0\n",
    "    elif num == 67: return 1\n",
    "    elif num == 71: return 2\n",
    "    elif num == 84: return 3\n",
    "    else: return 4"
   ]
  },
  {
   "cell_type": "code",
   "execution_count": 46,
   "metadata": {},
   "outputs": [],
   "source": [
    "import copy\n",
    "QSCORE_FUNCS_TO_TEST = [use_inverse_sum, use_min, use_max, use_geo_mean, use_arith_mean]\n",
    "# each_qscore = {'correct' : 0, 'A' : 0, 'C' : 0, 'G' : 0, 'T' : 0, '-' : 0}\n",
    "\n",
    "# deletions = { 'A' : {i : dict(zip(['AA', 'AC', 'AG', 'AT', 'CA', 'CC', 'CG', 'CT', 'GA', 'GC', 'GG', 'GT', 'TA', 'TC', 'TG', 'TT'],[0]*16)) for i in np.arange(32, 127) },\n",
    "#               'C' : {i : dict(zip(['AA', 'AC', 'AG', 'AT', 'CA', 'CC', 'CG', 'CT', 'GA', 'GC', 'GG', 'GT', 'TA', 'TC', 'TG', 'TT'],[0]*16)) for i in np.arange(32, 127) },\n",
    "#               'G' : {i : dict(zip(['AA', 'AC', 'AG', 'AT', 'CA', 'CC', 'CG', 'CT', 'GA', 'GC', 'GG', 'GT', 'TA', 'TC', 'TG', 'TT'],[0]*16)) for i in np.arange(32, 127) },\n",
    "#               'T' : {i : dict(zip(['AA', 'AC', 'AG', 'AT', 'CA', 'CC', 'CG', 'CT', 'GA', 'GC', 'GG', 'GT', 'TA', 'TC', 'TG', 'TT'],[0]*16)) for i in np.arange(32, 127) }}\n",
    "\n",
    "t = {'A' : {i : [0,0,0,0,0,0] for i in np.arange(33,127)},\n",
    "    'C' : {i : [0,0,0,0,0,0] for i in np.arange(33,127)},\n",
    "    'G' : {i : [0,0,0,0,0,0] for i in np.arange(33,127)},\n",
    "    'T' : {i : [0,0,0,0,0,0] for i in np.arange(33,127)},\n",
    "    '-' : {i : [0,0,0,0,0,0] for i in np.arange(33,127)}}\n",
    "        \n",
    "\n",
    "qscore_test = [copy.deepcopy(t), copy.deepcopy(t), copy.deepcopy(t), copy.deepcopy(t), copy.deepcopy(t)]\n",
    "\n",
    "# conditional_error = dict(zip(['A', 'C', 'G', 'T', '-'], [[0,0,0,0,0],[0]*5, [0]*5,[0]*5,[0]*5]))\n",
    "\n",
    "# For idx = 0 equals correct\n",
    "\n",
    "    \n",
    "for bfp in bfp_list:\n",
    "    if bfp.empty: continue\n",
    "    \n",
    "    cov = int((len(bfp.columns)-4)/2)\n",
    "    \n",
    "    for read_num in range(1, cov+1): # for each read\n",
    "        read = bfp[f'read{read_num}']\n",
    "        idx = truncate_start(read)\n",
    "        end = truncate_end(read, idx)\n",
    "        \n",
    "        for nuc in range(idx, end):\n",
    "            \n",
    "            true_nuc = bfp.iloc[nuc,0]\n",
    "            chr_tnuc = chr(true_nuc) # convert to a chr the targ\n",
    "            \n",
    "            qscore = bfp[f'q{read_num}'].iloc[nuc] # The qscore\n",
    "            check = read.iloc[nuc]\n",
    "            \n",
    "            if qscore == 33: # An indel is present... What should it's actual qscore be? Depends on insertion or deletion\n",
    "                \n",
    "                # -----------------\n",
    "                # QSCORE TESTING\n",
    "                # ------------------\n",
    "                \n",
    "                for i, func in enumerate(QSCORE_FUNCS_TO_TEST):\n",
    "                    qscore = int(func(bfp, read, nuc, cov))\n",
    "                    \n",
    "                    if check == true_nuc:\n",
    "                        qscore_test[i][chr_tnuc][qscore][0] += 1\n",
    "                    else:\n",
    "                        qscore_test[i][chr_tnuc][qscore][hot_encode(check)] += 1\n",
    "                continue\n",
    "            \n",
    "            else:       \n",
    "                if check == true_nuc: \n",
    "                    for i in range(5):\n",
    "                    # If correct. Add to observed\n",
    "                    # tracking[chr_tnuc][qscore] = tracking[chr_tnuc].setdefault(qscore, {'correct' : 0,65:0,67:0,71:0,84:0,45:0})\n",
    "                    # tracking[chr_tnuc][qscore]['correct'] += 1\n",
    "                        qscore_test[i][chr_tnuc][qscore][0] += 1\n",
    "                else: # If they disagree\n",
    "                    # conditional_error[chr_tnuc][raw_hot_encode(check)] += 1\n",
    "                    for i in range(5):\n",
    "                        qscore_test[i][chr_tnuc][qscore][hot_encode(check)] +=1        "
   ]
  },
  {
   "cell_type": "code",
   "execution_count": null,
   "metadata": {},
   "outputs": [],
   "source": [
    "import pickle\n",
    "with open('pickle/v3Tracking.pickle', 'wb') as f:\n",
    "    pickle.dump(qscore_test, f)"
   ]
  },
  {
   "cell_type": "markdown",
   "metadata": {},
   "source": [
    "### Include RFP with high coverage\n",
    "- Advised by Yiyang to increase sample size: principle is that high coverage contigs (4+) is true for all practical purposes "
   ]
  },
  {
   "cell_type": "code",
   "execution_count": null,
   "metadata": {},
   "outputs": [],
   "source": [
    "#78 minutes\n",
    "conditional_error_red = dict(zip(['A', 'C', 'G', 'T', '-'], [[0,0,0,0,0],[0]*5, [0]*5,[0]*5,[0]*5]))\n",
    "# deletions_red = { 'A' : {i : dict(zip(['AA', 'AC', 'AG', 'AT', 'CA', 'CC', 'CG', 'CT', 'GA', 'GC', 'GG', 'GT', 'TA', 'TC', 'TG', 'TT'],[0]*16)) for i in np.arange(32, 127) },\n",
    "#               'C' : {i : dict(zip(['AA', 'AC', 'AG', 'AT', 'CA', 'CC', 'CG', 'CT', 'GA', 'GC', 'GG', 'GT', 'TA', 'TC', 'TG', 'TT'],[0]*16)) for i in np.arange(32, 127) },\n",
    "#               'G' : {i : dict(zip(['AA', 'AC', 'AG', 'AT', 'CA', 'CC', 'CG', 'CT', 'GA', 'GC', 'GG', 'GT', 'TA', 'TC', 'TG', 'TT'],[0]*16)) for i in np.arange(32, 127) },\n",
    "#               'T' : {i : dict(zip(['AA', 'AC', 'AG', 'AT', 'CA', 'CC', 'CG', 'CT', 'GA', 'GC', 'GG', 'GT', 'TA', 'TC', 'TG', 'TT'],[0]*16)) for i in np.arange(32, 127) }}\n",
    "\n",
    "for rfp in rfp_list:\n",
    "    if rfp.empty: continue\n",
    "    \n",
    "    cov = int((len(rfp.columns)-4)/2)\n",
    "    if cov > 4:\n",
    "        for read_num in range(1, cov+1):\n",
    "            read = rfp[f'read{read_num}']\n",
    "            true = rfp.loc[:, 'contig']\n",
    "            idx = truncate_start(read)\n",
    "            end = truncate_end(read, idx)\n",
    "            \n",
    "            q = rfp[f'q{read_num}']\n",
    "            \n",
    "            for nuc in range(idx, end):\n",
    "                true_nuc = true.iloc[nuc]\n",
    "                chr_tnuc = chr(true_nuc) # convert to a chr the targ\n",
    "\n",
    "                qscore = q.iloc[nuc] # The qscore\n",
    "                check = read.iloc[nuc] # \n",
    "                \n",
    "                if qscore == 33: # An indel is present... What should it's actual qscore be? Depends on insertion or deletion\n",
    "                \n",
    "                # -----------------\n",
    "                # QSCORE TESTING\n",
    "                # ------------------\n",
    "                    for i, func in enumerate(QSCORE_FUNCS_TO_TEST):\n",
    "                        qscore = int(func(bfp, read, nuc, cov))\n",
    "                        \n",
    "                        if check == true_nuc:\n",
    "                            qscore_test[i][chr_tnuc][qscore][0] += 1\n",
    "                        else:\n",
    "                            qscore_test[i][chr_tnuc][qscore][hot_encode(check)] += 1\n",
    "                    continue\n",
    "                \n",
    "                else:       \n",
    "                    if check == true_nuc: \n",
    "                        for i in range(5):\n",
    "                        # If correct. Add to observed\n",
    "                        # tracking[chr_tnuc][qscore] = tracking[chr_tnuc].setdefault(qscore, {'correct' : 0,65:0,67:0,71:0,84:0,45:0})\n",
    "                        # tracking[chr_tnuc][qscore]['correct'] += 1\n",
    "                            qscore_test[i][chr_tnuc][qscore][0] += 1\n",
    "                    else: # If they disagree\n",
    "                        # conditional_error[chr_tnuc][raw_hot_encode(check)] += 1\n",
    "                        # conditional_error_red[chr_tnuc][raw_hot_encode(check)] += 1\n",
    "                        for i in range(5):\n",
    "                            qscore_test[i][chr_tnuc][qscore][hot_encode(check)] +=1     \n",
    "            "
   ]
  },
  {
   "cell_type": "code",
   "execution_count": 79,
   "metadata": {},
   "outputs": [],
   "source": [
    "rfp_list = pickle.load( open('pickle/raw_rfp.pickle', 'rb'))"
   ]
  },
  {
   "cell_type": "markdown",
   "metadata": {},
   "source": [
    "### Flipped loop ^ Inner is by nucleotide. Not by read\n",
    "- Separate SNPs from Indels in tracking"
   ]
  },
  {
   "cell_type": "markdown",
   "metadata": {},
   "source": [
    "Func to consolidate updating of indels and snips tracking dicts"
   ]
  },
  {
   "cell_type": "code",
   "execution_count": 80,
   "metadata": {},
   "outputs": [],
   "source": [
    "### Fixed. Improve Alg Complexity of below \n",
    "def pd_reads_truncater(df, list_reads):\n",
    "    ret_list = []\n",
    "\n",
    "    for read in list_reads:\n",
    "        nan_indel_mask = read[read != 45]\n",
    "        first_valid = nan_indel_mask.first_valid_index()\n",
    "        last_valid = nan_indel_mask.last_valid_index()\n",
    "        ret_list.append( (first_valid, last_valid) )\n",
    "        # Replace all 45's before and after the idx tuple with 1\n",
    "        if first_valid is not None and first_valid!= df.index[0]:\n",
    "            read.loc[:first_valid] = 1 # start and excluding\n",
    "        if last_valid is not None and last_valid != df.index[-1]:\n",
    "            read.loc[last_valid+1:] = 1 # past and end\n",
    "            \n",
    "    return ret_list\n",
    "\n",
    "# Core Assumption: Reads already truncated and pre- and post- 45's replaced with 1\n",
    "def add_isIndel(df, cov, rfp=False):\n",
    "    if rfp:\n",
    "        focus = [i for i in range(1, cov+1)]\n",
    "        focus.append(2*cov+2)\n",
    "        nan_mask = df.iloc[:, focus][df != 45]\n",
    "    else:\n",
    "        nan_mask = df.iloc[:, 0:cov+1][df!=45]\n",
    "    df['is_indel'] = np.where(nan_mask.count(axis = 1) == cov+1, False, True) #cov + 1 because targ/contig included\n",
    "\n"
   ]
  },
  {
   "cell_type": "code",
   "execution_count": 81,
   "metadata": {},
   "outputs": [],
   "source": [
    "def update_tracker(tracking, reads, df, idx, cov, rfp=False):\n",
    "    FUNC = use_min\n",
    "    \n",
    "    if rfp:\n",
    "        truth = df['contig']\n",
    "    else:\n",
    "        truth = df['target']\n",
    "        \n",
    "    true_nuc = truth.iloc[idx]\n",
    "    chr_tnuc = chr(true_nuc)\n",
    "    \n",
    "    for i, r in enumerate(reads):\n",
    "        qscore = df[f'q{i+1}'].iloc[idx] # The qscore\n",
    "        check = r.iloc[idx]\n",
    "        if check == 1: continue # The placeholder I used for meaningless alignments (not an indel)\n",
    "        \n",
    "        if qscore == 33: # An indel at that read\n",
    "            qscore = int(FUNC(df, r, idx, cov))\n",
    "            \n",
    "        if check == true_nuc:\n",
    "            tracking[chr_tnuc][qscore][0] += 1\n",
    "        else:\n",
    "            tracking[chr_tnuc][qscore][hot_encode(check)] += 1\n",
    "               "
   ]
  },
  {
   "cell_type": "markdown",
   "metadata": {},
   "source": [
    "### Preliminary Truncation and is_indel boolean column"
   ]
  },
  {
   "cell_type": "code",
   "execution_count": null,
   "metadata": {},
   "outputs": [],
   "source": [
    "for n, bfp in enumerate(bfp_list):\n",
    "    if (n%3500 == 0): print(f'{n/350000:.0%}')\n",
    "    if bfp.empty: continue\n",
    "    cov = get_cov(bfp)\n",
    "    reads = each_read(bfp, cov)\n",
    "    pd_reads_truncater(bfp, reads)\n",
    "    add_isIndel(bfp, cov, rfp=False)\n"
   ]
  },
  {
   "cell_type": "code",
   "execution_count": null,
   "metadata": {},
   "outputs": [],
   "source": [
    "    \n",
    "for n, rfp in enumerate(rfp_list):\n",
    "    if (n%3500 == 0): print(f'{n/350000:.0%}')\n",
    "    if rfp.empty: continue\n",
    "    cov = get_cov(rfp)\n",
    "    reads = each_read(rfp, cov)\n",
    "    pd_reads_truncater(rfp, reads)\n",
    "    add_isIndel(rfp, cov, rfp=True)\n"
   ]
  },
  {
   "cell_type": "code",
   "execution_count": 83,
   "metadata": {},
   "outputs": [],
   "source": [
    "import pickle\n",
    "# with open('pickle/v1bfp.pickle', 'wb') as f:\n",
    "#     pickle.dump(bfp_list, f)\n",
    "with open('pickle/v1rfp.pickle', 'wb') as f:\n",
    "    pickle.dump(rfp_list, f)"
   ]
  },
  {
   "cell_type": "code",
   "execution_count": 45,
   "metadata": {},
   "outputs": [],
   "source": [
    "import os\n",
    "from twilio.rest import Client\n",
    "import time\n",
    "start = time.time()\n",
    "\n",
    "# Find your Account SID and Auth Token at twilio.com/console\n",
    "# and set the environment variables. See http://twil.io/secure\n",
    "# echo \"export TWILIO_ACCOUNT_SID='AC46053bb791b11817972b5796e8423719'\" > twilio.env\n",
    "# echo \"export TWILIO_AUTH_TOKEN='4989d3463180a8599d022c71485a1ad9'\" >> twilio.env\n",
    "# source ./twilio.env\n",
    "# account_sid = os.environ['TWILIO_ACCOUNT_SID']\n",
    "account_sid = 'AC46053bb791b11817972b5796e8423719'\n",
    "# auth_token = os.environ['TWILIO_ACCOUNT_TOKEN']\n",
    "auth_token = '6f1184f23bec84745bf3ccf216abe55d'\n",
    "client = Client(account_sid, auth_token)\n",
    "end = time.time()\n",
    "# message = client.messages.create(\n",
    "#                               body=f'BFP tracking updater function has terminated. Runtime: {(end-start)} mins',\n",
    "#                               from_='+19786620878',\n",
    "#                               to='+17023720145'\n",
    "#                           )\n"
   ]
  },
  {
   "cell_type": "code",
   "execution_count": 46,
   "metadata": {},
   "outputs": [],
   "source": [
    "import time\n",
    "start = time.time()\n",
    "try:\n",
    "    for bfp in bfp_list:\n",
    "        if bfp.empty: continue\n",
    "        targ = bfp['target']\n",
    "        COV = get_cov(bfp)\n",
    "        reads = each_read(bfp, COV)\n",
    "\n",
    "        isIndel = bfp['is_indel']\n",
    "        for idx in range(len(bfp)):\n",
    "            if isIndel.iloc[idx] == True:\n",
    "                update_tracker(indels, reads, bfp, idx, COV)\n",
    "            else: #SNP\n",
    "                update_tracker(snips, reads, bfp, idx, COV)\n",
    "    end = time.time()\n",
    "except:\n",
    "    end = time.time()\n",
    "    message = client.messages.create(\n",
    "                              body=f'BFP tracking updater function has terminated. Runtime: {end-start} ',\n",
    "                              from_='+19786620878',\n",
    "                              to='+17023720145'\n",
    "                          )\n",
    "    print(message.sid)\n",
    "else:\n",
    "    message = client.messages.create(\n",
    "                              body=f'BFP tracking updater function has completed successfully. Runtime: {end-start}',\n",
    "                              from_='+19786620878',\n",
    "                              to='+17023720145'\n",
    "                          )\n",
    "    "
   ]
  },
  {
   "cell_type": "code",
   "execution_count": 47,
   "metadata": {},
   "outputs": [],
   "source": [
    "import pickle\n",
    "with open('pickle/v0TrackingIndels.pickle', 'wb') as f:\n",
    "    pickle.dump(indels, f)\n",
    "with open('pickle/v0TrackingSnips.pickle', 'wb') as f:\n",
    "    pickle.dump(snips, f)"
   ]
  },
  {
   "cell_type": "code",
   "execution_count": 48,
   "metadata": {},
   "outputs": [
    {
     "name": "stdout",
     "output_type": "stream",
     "text": [
      "0%\n",
      "1%\n",
      "2%\n",
      "3%\n",
      "4%\n",
      "5%\n",
      "6%\n",
      "7%\n",
      "8%\n",
      "9%\n",
      "10%\n",
      "11%\n",
      "12%\n",
      "13%\n",
      "14%\n",
      "15%\n",
      "16%\n",
      "17%\n",
      "18%\n",
      "19%\n",
      "20%\n",
      "21%\n",
      "22%\n",
      "23%\n",
      "24%\n",
      "25%\n",
      "26%\n",
      "27%\n",
      "28%\n",
      "29%\n",
      "30%\n",
      "31%\n",
      "32%\n",
      "33%\n",
      "34%\n",
      "35%\n",
      "36%\n",
      "37%\n",
      "38%\n",
      "39%\n",
      "40%\n",
      "41%\n",
      "42%\n",
      "43%\n",
      "44%\n",
      "45%\n",
      "46%\n",
      "47%\n",
      "48%\n",
      "49%\n",
      "50%\n",
      "51%\n",
      "52%\n",
      "53%\n",
      "54%\n",
      "55%\n",
      "56%\n",
      "57%\n",
      "58%\n",
      "59%\n",
      "60%\n",
      "61%\n",
      "62%\n",
      "63%\n",
      "64%\n",
      "65%\n",
      "66%\n",
      "67%\n",
      "68%\n",
      "69%\n",
      "70%\n",
      "71%\n",
      "72%\n",
      "73%\n",
      "74%\n",
      "75%\n",
      "76%\n",
      "77%\n",
      "78%\n",
      "79%\n",
      "80%\n",
      "81%\n",
      "82%\n",
      "83%\n",
      "84%\n",
      "85%\n",
      "86%\n",
      "87%\n",
      "88%\n",
      "89%\n",
      "90%\n",
      "91%\n",
      "92%\n",
      "93%\n",
      "94%\n",
      "95%\n",
      "96%\n",
      "97%\n",
      "98%\n",
      "99%\n",
      "100%\n",
      "101%\n"
     ]
    }
   ],
   "source": [
    "import time\n",
    "start = time.time()\n",
    "try:\n",
    "    # import time\n",
    "    for n, rfp in enumerate(rfp_list):\n",
    "        # start = time.time()\n",
    "        if (n % 3500 == 0): print(f'{n/350000:.0%}')\n",
    "        if rfp.empty: continue\n",
    "        \n",
    "        cov = get_cov(rfp)\n",
    "        if cov < 4: continue\n",
    "        \n",
    "        targ = rfp['contig']\n",
    "        reads = each_read(rfp, cov)\n",
    "        \n",
    "        isIndel = rfp['is_indel']\n",
    "        for idx in range(len(rfp)):\n",
    "            if isIndel.iloc[idx] == True:\n",
    "                update_tracker(indels, reads, rfp, idx, cov, rfp=True)\n",
    "            else: #SNP\n",
    "                update_tracker(snips, reads, rfp, idx, cov, rfp=True)\n",
    "        end = time.time()\n",
    "except:\n",
    "    end = time.time()\n",
    "    message = client.messages.create(\n",
    "                              body=f'RFP tracking updater function has terminated. Runtime: {end-start} ',\n",
    "                              from_='+19786620878',\n",
    "                              to='+17023720145'\n",
    "                          )\n",
    "    print(message.sid)\n",
    "else:\n",
    "    message = client.messages.create(\n",
    "                              body=f'RFP tracking updater function has completed successfully. Runtime: {end-start}',\n",
    "                              from_='+19786620878',\n",
    "                              to='+17023720145'\n",
    "                          )"
   ]
  },
  {
   "cell_type": "code",
   "execution_count": 49,
   "metadata": {},
   "outputs": [],
   "source": [
    "import pickle\n",
    "with open('pickle/v0TrackingIndelswRFP.pickle', 'wb') as f:\n",
    "    pickle.dump(indels, f)\n",
    "with open('pickle/v0TrackingSnipswRFP.pickle', 'wb') as f:\n",
    "    pickle.dump(snips, f)"
   ]
  },
  {
   "cell_type": "markdown",
   "metadata": {},
   "source": [
    "### Visualization of sequencing error rates\n",
    "`tracking`"
   ]
  },
  {
   "cell_type": "code",
   "execution_count": 50,
   "metadata": {},
   "outputs": [
    {
     "ename": "NameError",
     "evalue": "name 'qscore_test' is not defined",
     "output_type": "error",
     "traceback": [
      "\u001b[0;31m---------------------------------------------------------------------------\u001b[0m",
      "\u001b[0;31mNameError\u001b[0m                                 Traceback (most recent call last)",
      "\u001b[1;32m/home/neurotoolbox/Desktop/David/mutalib/tracking.ipynb Cell 38\u001b[0m in \u001b[0;36m<cell line: 7>\u001b[0;34m()\u001b[0m\n\u001b[1;32m      <a href='vscode-notebook-cell:/home/neurotoolbox/Desktop/David/mutalib/tracking.ipynb#ch0000034?line=2'>3</a>\u001b[0m raw_x \u001b[39m=\u001b[39m [i \u001b[39mfor\u001b[39;00m i \u001b[39min\u001b[39;00m np\u001b[39m.\u001b[39marange(\u001b[39m33\u001b[39m, \u001b[39m127\u001b[39m)]\n\u001b[1;32m      <a href='vscode-notebook-cell:/home/neurotoolbox/Desktop/David/mutalib/tracking.ipynb#ch0000034?line=4'>5</a>\u001b[0m fig, axs \u001b[39m=\u001b[39m plt\u001b[39m.\u001b[39msubplots(\u001b[39m5\u001b[39m, \u001b[39m1\u001b[39m)\n\u001b[0;32m----> <a href='vscode-notebook-cell:/home/neurotoolbox/Desktop/David/mutalib/tracking.ipynb#ch0000034?line=6'>7</a>\u001b[0m \u001b[39mfor\u001b[39;00m indx, test \u001b[39min\u001b[39;00m \u001b[39menumerate\u001b[39m(qscore_test):\n\u001b[1;32m      <a href='vscode-notebook-cell:/home/neurotoolbox/Desktop/David/mutalib/tracking.ipynb#ch0000034?line=8'>9</a>\u001b[0m     to_plot \u001b[39m=\u001b[39m {\u001b[39m'\u001b[39m\u001b[39mA\u001b[39m\u001b[39m'\u001b[39m : [], \u001b[39m'\u001b[39m\u001b[39mC\u001b[39m\u001b[39m'\u001b[39m : [], \u001b[39m'\u001b[39m\u001b[39mG\u001b[39m\u001b[39m'\u001b[39m : [], \u001b[39m'\u001b[39m\u001b[39mT\u001b[39m\u001b[39m'\u001b[39m : [], \u001b[39m'\u001b[39m\u001b[39m-\u001b[39m\u001b[39m'\u001b[39m: []}\n\u001b[1;32m     <a href='vscode-notebook-cell:/home/neurotoolbox/Desktop/David/mutalib/tracking.ipynb#ch0000034?line=9'>10</a>\u001b[0m     \u001b[39mfor\u001b[39;00m n \u001b[39min\u001b[39;00m [\u001b[39m'\u001b[39m\u001b[39mA\u001b[39m\u001b[39m'\u001b[39m, \u001b[39m'\u001b[39m\u001b[39mC\u001b[39m\u001b[39m'\u001b[39m, \u001b[39m'\u001b[39m\u001b[39mG\u001b[39m\u001b[39m'\u001b[39m, \u001b[39m'\u001b[39m\u001b[39mT\u001b[39m\u001b[39m'\u001b[39m, \u001b[39m'\u001b[39m\u001b[39m-\u001b[39m\u001b[39m'\u001b[39m]:\n",
      "\u001b[0;31mNameError\u001b[0m: name 'qscore_test' is not defined"
     ]
    },
    {
     "data": {
      "image/png": "[encoded data removed]",
      "text/plain": [
       "<Figure size 432x288 with 5 Axes>"
      ]
     },
     "metadata": {
      "needs_background": "light"
     },
     "output_type": "display_data"
    }
   ],
   "source": [
    "\n",
    "import matplotlib.pyplot as plt\n",
    "import numpy as np\n",
    "raw_x = [i for i in np.arange(33, 127)]\n",
    "\n",
    "fig, axs = plt.subplots(5, 1)\n",
    "\n",
    "for indx, test in enumerate(qscore_test):\n",
    "\n",
    "    to_plot = {'A' : [], 'C' : [], 'G' : [], 'T' : [], '-': []}\n",
    "    for n in ['A', 'C', 'G', 'T', '-']:\n",
    "        raw_y = []\n",
    "        focus = test[n]\n",
    "        for i in focus.keys():\n",
    "            stats = focus.get(i)\n",
    "            total = sum(stats)\n",
    "            wrong = sum(stats[1:])\n",
    "            if total == 0:\n",
    "                raw_y.append(0)\n",
    "            else: raw_y.append(wrong/total)\n",
    "        to_plot[n] = raw_y\n",
    "    for nuc in list(to_plot.keys()):\n",
    "        focus = to_plot[nuc]\n",
    "        for n, num in enumerate(focus):\n",
    "            focus[n] = 33 - (10 * np.log10(num))\n",
    "    for nuc in list(to_plot.keys()):\n",
    "        axs[indx].scatter(raw_x, to_plot[nuc], marker='x')\n",
    "# plt.plot(raw_x, (pd.DataFrame(to_plot).mean(axis=1).values), color='k', label=\"mean\")\n",
    "\n",
    "plt.plot(np.arange(33, 127), np.arange(33, 127), color='k')\n",
    "\n",
    "plt.title('Observed Sequencing Error Rates', fontsize=20)\n",
    "plt.xlabel('Phred Q Score', fontsize=15)\n",
    "plt.ylabel('Observed Q Score', fontsize=15)\n"
   ]
  },
  {
   "cell_type": "code",
   "execution_count": 111,
   "metadata": {},
   "outputs": [
    {
     "name": "stderr",
     "output_type": "stream",
     "text": [
      "/tmp/ipykernel_768896/2368897162.py:22: RuntimeWarning: divide by zero encountered in log10\n",
      "  focus[n] = 33 - (10 * np.log10(num))\n"
     ]
    },
    {
     "data": {
      "text/plain": [
       "<matplotlib.legend.Legend at 0x7f333f79c8e0>"
      ]
     },
     "execution_count": 111,
     "metadata": {},
     "output_type": "execute_result"
    },
    {
     "data": {
      "image/png": "[encoded data removed]",
      "text/plain": [
       "<Figure size 1224x1224 with 1 Axes>"
      ]
     },
     "metadata": {
      "needs_background": "light"
     },
     "output_type": "display_data"
    }
   ],
   "source": [
    "import matplotlib.pyplot as plt\n",
    "import seaborn as sns\n",
    "import numpy as np\n",
    "raw_x = [i for i in np.arange(33, 127)]\n",
    "plt.figure(figsize=(17,17))\n",
    "\n",
    "to_plot = {'A' : [], 'C' : [], 'G' : [], 'T' : []}\n",
    "for n in ['A', 'C', 'G', 'T']:\n",
    "    raw_y = []\n",
    "    focus = snips[n]\n",
    "    for i in focus.keys():\n",
    "        stats = focus.get(i)\n",
    "        total = np.sum(stats)\n",
    "        wrong = np.sum(stats[1:])\n",
    "        if total == 0:\n",
    "            raw_y.append(0)\n",
    "        else: raw_y.append(wrong/total)\n",
    "    to_plot[n] = raw_y\n",
    "for nuc in list(to_plot.keys()):\n",
    "    focus = to_plot[nuc]\n",
    "    for n, num in enumerate(focus):\n",
    "        focus[n] = 33 - (10 * np.log10(num))\n",
    "for nuc in list(to_plot.keys()):\n",
    "    plt.scatter(raw_x, to_plot[nuc], marker='.', s=100)\n",
    "# plt.plot(raw_x, (pd.DataFrame(to_plot).mean(axis=1).values), color='k', label=\"mean\")\n",
    "\n",
    "# plt.plot(np.arange(33, 127), np.arange(33, 127), color='k')\n",
    "\n",
    "plt.title('Observed Sequencing Error Rates', fontsize=20)\n",
    "plt.ylim(33, 127)\n",
    "plt.xlabel('Phred Q Score', fontsize=15)\n",
    "plt.ylabel('Observed Q Score', fontsize=15)\n",
    "plt.legend(['A', 'C', 'G', 'T'])\n",
    "\n"
   ]
  },
  {
   "cell_type": "markdown",
   "metadata": {},
   "source": [
    "### Bar Plots of Individual Sample Sizes (Nucleotide)"
   ]
  },
  {
   "cell_type": "code",
   "execution_count": 117,
   "metadata": {},
   "outputs": [
    {
     "data": {
      "image/png": "[encoded data removed]",
      "text/plain": [
       "<Figure size 1080x1080 with 4 Axes>"
      ]
     },
     "metadata": {
      "needs_background": "light"
     },
     "output_type": "display_data"
    }
   ],
   "source": [
    "def get_samplesize(tracking, nuc):\n",
    "    sample_sizes = []\n",
    "    focus = tracking[nuc]\n",
    "    for q in focus.keys():\n",
    "        if q == 126:\n",
    "            sample_sizes.append(0)\n",
    "            break\n",
    "        sample_sizes.append(np.sum(focus[q]))\n",
    "    return sample_sizes       \n",
    "\n",
    "fig, axs = plt.subplots(2, 2, figsize=(15, 15), sharex=True, sharey=True)\n",
    "\n",
    "\n",
    "n = 0\n",
    "nuc = {0: 'A', 1: 'C', 2 : 'G', 3: 'T'}\n",
    "color = {0: 'blue', 1: 'gold', 2: 'green', 3: 'red'}\n",
    "for i in range(2):\n",
    "    for j in range(2):\n",
    "      \n",
    "        axs[i,j].barh(raw_x, get_samplesize(snips, nuc[n]), color=color[n])\n",
    "        axs[i,j].set_title(f'Nucleotide {nuc[n]}')\n",
    "        \n",
    "        n +=1\n",
    "# axs.set('Sample size (n) per Phred Q score per Nucleotide')\n",
    "\n"
   ]
  },
  {
   "cell_type": "markdown",
   "metadata": {},
   "source": [
    "### Stacked Area Plot of Sample size differences\n",
    "(Don't use)\n",
    "- Shows how much each contribute to the cumulative total, but I care about highlighting the differences in individual area"
   ]
  },
  {
   "cell_type": "code",
   "execution_count": 146,
   "metadata": {},
   "outputs": [
    {
     "data": {
      "image/png": "[encoded data removed]",
      "text/plain": [
       "<Figure size 1080x1080 with 1 Axes>"
      ]
     },
     "metadata": {
      "needs_background": "light"
     },
     "output_type": "display_data"
    }
   ],
   "source": [
    "# plt.figure(figsize=(15, 15))\n",
    "# plt.stackplot(raw_x,\n",
    "#               [get_samplesize(snips, 'T'), get_samplesize(snips, 'A'), get_samplesize(snips, 'G'), get_samplesize(snips, 'C')],\n",
    "#               labels=['T', 'A', 'G', 'C'],\n",
    "#               colors=['red', 'blue', 'green', 'gold'],\n",
    "#               alpha=0.8)\n",
    "# plt.legend(loc=2, fontsize='large')\n",
    "# plt.xlim([35, 125])\n",
    "# plt.title('Sample Size by Q score per Nucleotide in SNPs', fontsize=20)\n",
    "# plt.show()"
   ]
  },
  {
   "cell_type": "markdown",
   "metadata": {},
   "source": [
    "### Area Plot\n",
    "(Use THIS ONE)"
   ]
  },
  {
   "cell_type": "code",
   "execution_count": 188,
   "metadata": {},
   "outputs": [
    {
     "data": {
      "image/png": "[encoded data removed]",
      "text/plain": [
       "<Figure size 1080x1080 with 1 Axes>"
      ]
     },
     "metadata": {
      "needs_background": "light"
     },
     "output_type": "display_data"
    }
   ],
   "source": [
    "\n",
    "# fig, axs = plt.subplots(1, 2, figsize=(15, 15), sharex=True, sharey=True)\n",
    "plt.figure(figsize=(15,15))\n",
    "\n",
    "\n",
    "# Plot line graphs\n",
    "for n in ['A', 'C', 'G', 'T']:\n",
    "    plt.plot(raw_x, get_samplesize(snips, n), alpha=0.8, linewidth=2, label=n)\n",
    "    \n",
    "# Area Plot (customized)\n",
    "plt.fill_between(raw_x, get_samplesize(snips, 'C'), get_samplesize(snips, 'G'), color='C1', alpha=0.8)\n",
    "plt.fill_between(raw_x, get_samplesize(snips, 'G'), get_samplesize(snips, 'A'), color='C2', alpha=0.8)\n",
    "plt.fill_between(raw_x, get_samplesize(snips, 'A'), get_samplesize(snips, 'T'), color='C0', alpha=0.8)\n",
    "plt.fill_between(raw_x, 0, get_samplesize(snips, 'T'), color='C3', alpha=0.8)\n",
    "\n",
    "# Properties\n",
    "plt.legend(fontsize=13)\n",
    "plt.xlim(33, 125)\n",
    "plt.ylim(bottom=0)\n",
    "plt.title('Nucleotide Differences in Sample Size per Phred Q Score', fontsize=25)\n",
    "plt.xlabel('Phred Q Score', fontsize=20)\n",
    "plt.ylabel('Number of Samples (3e6)', fontsize=20)\n",
    "plt.tick_params(labelsize=15)\n",
    "\n",
    "plt.show()"
   ]
  },
  {
   "cell_type": "code",
   "execution_count": 178,
   "metadata": {},
   "outputs": [],
   "source": [
    "red_counter = dict(zip(['A', 'C', 'T', 'G'], [{i : [0,0] for i in np.arange(34, 127)}]*5))\n",
    "\n",
    "for rfp in rfp_list:\n",
    "    if rfp.empty: continue\n",
    "    \n",
    "    cov = int((len(rfp.columns)-4)/2)\n",
    "    if cov > 4:\n",
    "        for read_num in range(1, cov+1):\n",
    "            read = rfp[f'read{read_num}']\n",
    "            true = rfp.loc[:, 'contig']\n",
    "            idx = truncate_start(read)\n",
    "            end = truncate_end(read, idx)\n",
    "            for nuc in range(idx, end):\n",
    "                true_nuc = true.iloc[nuc]\n",
    "                chr_tnuc = chr(true_nuc) # convert to a chr the targ\n",
    "                qscore = rfp[f'q{read_num}'].iloc[nuc] # The qscore\n",
    "                check = read.iloc[nuc] # \n",
    "                if qscore == 33:\n",
    "                    # Time to test different ones.\n",
    "                    continue\n",
    "                \n",
    "                if true_nuc != 45:\n",
    "                    if true_nuc == check:\n",
    "                        red_counter[chr_tnuc][qscore][0] += 1\n",
    "                    else: \n",
    "                        red_counter[chr_tnuc][qscore][1] += 1\n",
    "                    "
   ]
  },
  {
   "cell_type": "code",
   "execution_count": null,
   "metadata": {},
   "outputs": [
    {
     "data": {
      "text/plain": [
       "1"
      ]
     },
     "execution_count": 197,
     "metadata": {},
     "output_type": "execute_result"
    }
   ],
   "source": [
    "import pickle\n",
    "with open('pickle/v3TrackingwRFP.pickle', 'wb') as f:\n",
    "    pickle.dump(tracking, f)"
   ]
  },
  {
   "cell_type": "code",
   "execution_count": 43,
   "metadata": {},
   "outputs": [],
   "source": [
    "A = pd.DataFrame(deletions['A'])\n",
    "C = pd.DataFrame(deletions['C'])\n",
    "G = pd.DataFrame(deletions['G'])\n",
    "T = pd.DataFrame(deletions['T'])\n",
    "df = A + C + G + T"
   ]
  },
  {
   "cell_type": "markdown",
   "metadata": {},
   "source": [
    "Frequency of specific deletions. Assume order has no uniqueness"
   ]
  },
  {
   "cell_type": "code",
   "execution_count": null,
   "metadata": {},
   "outputs": [],
   "source": [
    "import matplotlib.pyplot as plt\n",
    "raw_x = np.arange(32, 127)\n",
    "def plot_del_freq(A, nuc):\n",
    "    Arec = A.sum(axis=1)\n",
    "    total = Arec.sum()\n",
    "    to_see = list(Arec.index)\n",
    "    temp = list(Arec.index)\n",
    "\n",
    "    to_see = Arec.index\n",
    "    for i in temp:\n",
    "        for j in to_see:\n",
    "            if i == j: continue\n",
    "            if (i == j[::-1]): \n",
    "                Arec[i] += Arec[j]\n",
    "                Arec = Arec.drop(j)\n",
    "                temp.remove(j)\n",
    "                to_see.drop(j)\n",
    "    plt.plot(Arec.index, Arec/total, label=nuc)\n",
    "    return Arec\n",
    "\n",
    "plot_del_freq(df, \"total\")\n",
    "plot_del_freq(A, 'A')\n",
    "plot_del_freq(C, 'C')\n",
    "plot_del_freq(G, 'G')\n",
    "plot_del_freq(T, 'T')\n",
    "plt.legend(loc='best')\n",
    "\n"
   ]
  },
  {
   "cell_type": "markdown",
   "metadata": {},
   "source": [
    "Assume ordering is unique."
   ]
  },
  {
   "cell_type": "code",
   "execution_count": 48,
   "metadata": {},
   "outputs": [
    {
     "data": {
      "text/plain": [
       "[<matplotlib.lines.Line2D at 0x7f9ba6279a30>]"
      ]
     },
     "execution_count": 48,
     "metadata": {},
     "output_type": "execute_result"
    },
    {
     "data": {
      "image/png": "[encoded data removed]",
      "text/plain": [
       "<Figure size 432x288 with 1 Axes>"
      ]
     },
     "metadata": {
      "needs_background": "light"
     },
     "output_type": "display_data"
    }
   ],
   "source": [
    "def plot_del_freq(A):\n",
    "    Arec = A.sum(axis=1)\n",
    "    total = Arec.sum()\n",
    "    to_see = list(Arec.index)\n",
    "    temp = list(Arec.index)\n",
    "\n",
    "    to_see = Arec.index\n",
    "    for i in temp:\n",
    "        for j in to_see:\n",
    "            if i == j: continue\n",
    "            if (i == j[::-1]): \n",
    "                Arec[i] += Arec[j]\n",
    "                Arec = Arec.drop(j)\n",
    "                temp.remove(j)\n",
    "                to_see.drop(j)\n",
    "    plt.plot(Arec.index, Arec/total)\n"
   ]
  },
  {
   "cell_type": "markdown",
   "metadata": {},
   "source": [
    "### Correcting Q Score"
   ]
  },
  {
   "cell_type": "code",
   "execution_count": 92,
   "metadata": {},
   "outputs": [],
   "source": [
    "# Let's start basic\n",
    "# Just 'A' and total wrong\n",
    "# Remember that 33 is useless. 32 does not exist.\n",
    "to_plot = {'A' : [], 'C' : [], 'G' : [], 'T' : [], '-': []}\n",
    "\n",
    "\n",
    "raw_x = [i for i in np.arange(33, 127)] #34 is 0 in test\n",
    "\n",
    "to_plot = {'A' : [], 'C' : [], 'G' : [], 'T' : [], '-': []}\n",
    "for n in ['A', 'C', 'G', 'T']:\n",
    "    raw_y = []\n",
    "    focus = tracking[n]\n",
    "    for i in focus.keys():\n",
    "        if i < 35: continue\n",
    "        stats = focus.get(i)\n",
    "        total = sum(stats)\n",
    "        wrong = sum(stats[1:])\n",
    "        if total == 0:\n",
    "            raw_y.append(0)\n",
    "        else: raw_y.append(wrong/total)\n",
    "    to_plot[n] = raw_y"
   ]
  },
  {
   "cell_type": "code",
   "execution_count": 186,
   "metadata": {},
   "outputs": [
    {
     "name": "stderr",
     "output_type": "stream",
     "text": [
      "/tmp/ipykernel_1840435/1095344616.py:26: RuntimeWarning: divide by zero encountered in log10\n",
      "  plt.plot(test, list(map(np.log10, AC)))\n",
      "/tmp/ipykernel_1840435/1095344616.py:27: RuntimeWarning: divide by zero encountered in log10\n",
      "  plt.plot(test, list(map(np.log10, AG)))\n",
      "/tmp/ipykernel_1840435/1095344616.py:28: RuntimeWarning: divide by zero encountered in log10\n",
      "  plt.plot(test, list(map(np.log10, AT)))\n",
      "/tmp/ipykernel_1840435/1095344616.py:29: RuntimeWarning: divide by zero encountered in log10\n",
      "  plt.plot(test, list(map(np.log10, AI)))\n"
     ]
    },
    {
     "data": {
      "text/plain": [
       "[<matplotlib.lines.Line2D at 0x7f5b3d3a0130>]"
      ]
     },
     "execution_count": 186,
     "metadata": {},
     "output_type": "execute_result"
    },
    {
     "data": {
      "image/png": "[encoded data removed]",
      "text/plain": [
       "<Figure size 720x720 with 1 Axes>"
      ]
     },
     "metadata": {
      "needs_background": "light"
     },
     "output_type": "display_data"
    }
   ],
   "source": [
    "test = []\n",
    "AT = []\n",
    "AC = []\n",
    "AG = []\n",
    "AI = []\n",
    "\n",
    "for q, freq in tracking['A'].items():\n",
    "    test.append(q)\n",
    "    total = freq[0]\n",
    "    check = freq[2:]\n",
    "    for idx, num in enumerate(check):\n",
    "        if idx == 0:\n",
    "            if total == 0: AC.append(0)\n",
    "            else: AC.append(num/total)\n",
    "        elif idx == 1:\n",
    "            if total == 0: AG.append(0)\n",
    "            else: AG.append(num/total)\n",
    "        elif idx == 2:\n",
    "            if total == 0: AT.append(0)\n",
    "            else: AT.append(num/total)\n",
    "        elif idx == 3:\n",
    "            if total == 0: AI.append(0)\n",
    "            else: AI.append(num/total)\n",
    "        else: print(f\"?{q} {idx} {num}\")\n",
    "plt.figure(figsize=(10,10))\n",
    "plt.plot(test, list(map(np.log10, AC)))\n",
    "plt.plot(test, list(map(np.log10, AG)))\n",
    "plt.plot(test, list(map(np.log10, AT)))\n",
    "plt.plot(test, list(map(np.log10, AI)))\n",
    "\n",
    "    "
   ]
  },
  {
   "cell_type": "code",
   "execution_count": 183,
   "metadata": {},
   "outputs": [
    {
     "data": {
      "image/png": "[encoded data removed]",
      "text/plain": [
       "<Figure size 1440x720 with 6 Axes>"
      ]
     },
     "metadata": {
      "needs_background": "light"
     },
     "output_type": "display_data"
    }
   ],
   "source": [
    "fig, axes = plt.subplots(3, 2, figsize=(20, 10))\n",
    "skip = {'A':0, 'C':1, 'G':2, 'T':3, '-':4}\n",
    "\n",
    "for nuc in ['A', 'C', 'G', 'T', '-']:\n",
    "    test = []\n",
    "    AT = []\n",
    "    AC = []\n",
    "    AG = []\n",
    "    AI = []\n",
    "\n",
    "    for q, freq in tracking[nuc].items():\n",
    "        test.append(q)\n",
    "        total = freq[0]\n",
    "        check = freq[1:]\n",
    "        check.pop(skip[nuc])\n",
    "        for idx, num in enumerate(check):\n",
    "            if idx == 0:\n",
    "                if total == 0: AC.append(0)\n",
    "                else: AC.append(num/total)\n",
    "            elif idx == 1:\n",
    "                if total == 0: AG.append(0)\n",
    "                else: AG.append(num/total)\n",
    "            elif idx == 2:\n",
    "                if total == 0: AT.append(0)\n",
    "                else: AT.append(num/total)\n",
    "            elif idx == 3:\n",
    "                if total == 0: AI.append(0)\n",
    "                else: AI.append(num/total)\n",
    "            else: continue\n",
    "    if nuc =='A':\n",
    "        axes[0,0].plot(test, AT, label = 'A/T')\n",
    "        axes[0,0].plot(test, AC, label = 'A/C')\n",
    "        axes[0,0].plot(test, AG, label = 'A/G')\n",
    "        axes[0,0].plot(test, AI, label = 'A/-')\n",
    "        axes[0,0].legend()\n",
    "    elif nuc =='C':\n",
    "        axes[0,1].plot(test, AT, label = 'C/T')\n",
    "        axes[0,1].plot(test, AC, label = 'C/A')\n",
    "        axes[0,1].plot(test, AG, label = 'C/G')\n",
    "        axes[0,1].plot(test, AI, label = 'C/-')\n",
    "        axes[0,1].legend()\n",
    "    elif nuc =='G':\n",
    "        axes[1,0].plot(test, AT, label = 'G/T')\n",
    "        axes[1,0].plot(test, AC, label = 'G/A')\n",
    "        axes[1,0].plot(test, AG, label = 'G/C')\n",
    "        axes[1,0].plot(test, AI, label = 'G/-')\n",
    "        axes[1,0].legend()\n",
    "    elif nuc == 'T':\n",
    "        axes[1,1].plot(test, AT, label = 'T/G')\n",
    "        axes[1,1].plot(test, AC, label = 'T/A')\n",
    "        axes[1,1].plot(test, AG, label = 'T/C')\n",
    "        axes[1,1].plot(test, AI, label = 'T/-')\n",
    "        axes[1,1].legend()\n",
    "    else:\n",
    "        axes[2,0].plot(test, AT, label = '-/G')\n",
    "        axes[2,0].plot(test, AC, label = '-/A')\n",
    "        axes[2,0].plot(test, AG, label = '-/C')\n",
    "        axes[2,0].plot(test, AI, label = '-/T')\n",
    "        axes[2,0].legend()\n"
   ]
  },
  {
   "cell_type": "code",
   "execution_count": 6,
   "metadata": {},
   "outputs": [],
   "source": [
    "tracking = pickle.load( open('pickle/v2TrackingwRFP.pickle', 'rb'))"
   ]
  },
  {
   "cell_type": "markdown",
   "metadata": {},
   "source": [
    "### Plotting Nucleotide-specific Error Patterns"
   ]
  },
  {
   "cell_type": "code",
   "execution_count": null,
   "metadata": {},
   "outputs": [],
   "source": [
    "tracking_vocab = ['correct', 'A', 'C', 'G', 'T', '-']\n",
    "skip = {'A' : 0, 'C' : 1, 'G': 2, 'T': 3}\n",
    "associate = {0 : 'A', 1: 'C', 2: 'G', 3: 'T'}\n",
    "\n",
    "x = [i for i in np.arange(33, 126)]\n",
    "for nuc in ['A']:\n",
    "    ict = {'A' : [], 'C' : [], 'G' : [], 'T' : []} \n",
    "    for q, v in tracking[nuc].items():\n",
    "        if q < 45: continue\n",
    "        total = sum(v)\n",
    "        nuc_misreads = v[1:-1]\n",
    "        for idx, count in enumerate(nuc_misreads):\n",
    "            if idx == skip[nuc]:\n",
    "                continue\n",
    "            ict[associate[idx]].append(count)\n",
    "    for n in ['A', 'C', 'G', 'T']:\n",
    "        curr = ict[n]\n",
    "        if len(curr) < 2: continue\n",
    "        plt.plot(x, curr[:-1])\n",
    "        plt.legend(labels=[ 'C', 'G', 'T'])\n",
    "        plt.ylabel('Error Count')\n",
    "        plt.xlabel('Phred Quality Score')\n",
    "        plt.tight_layout()"
   ]
  },
  {
   "cell_type": "code",
   "execution_count": null,
   "metadata": {},
   "outputs": [],
   "source": [
    "x = [i for i in np.arange(39, 126)]\n",
    "for nuc in ['C']:\n",
    "    ict = {'A' : [], 'C' : [], 'G' : [], 'T' : []} \n",
    "    for q, v in tracking[nuc].items():\n",
    "        if q < 39: continue\n",
    "        total = sum(v)\n",
    "        nuc_misreads = v[1:-1]\n",
    "        for idx, count in enumerate(nuc_misreads):\n",
    "            if idx == skip[nuc]:\n",
    "                continue\n",
    "            ict[associate[idx]].append(count)\n",
    "    for n in ['A', 'C', 'G', 'T']:\n",
    "        curr = ict[n]\n",
    "        if len(curr) < 2: continue\n",
    "        plt.plot(x, curr[:-1])\n",
    "        plt.legend(labels=[ 'A', 'G', 'T'])\n",
    "        plt.ylabel('Error Count')\n",
    "        plt.xlabel('Phred Quality Score')\n",
    "        plt.tight_layout()"
   ]
  },
  {
   "cell_type": "code",
   "execution_count": null,
   "metadata": {},
   "outputs": [],
   "source": [
    "\n",
    "for nuc in ['G']:\n",
    "    ict = {'A' : [], 'C' : [], 'G' : [], 'T' : []} \n",
    "    for q, v in tracking[nuc].items():\n",
    "        if q < 39: continue\n",
    "        total = sum(v)\n",
    "        nuc_misreads = v[1:-1]\n",
    "        for idx, count in enumerate(nuc_misreads):\n",
    "            if idx == skip[nuc]:\n",
    "                continue\n",
    "            ict[associate[idx]].append(count)\n",
    "    for n in ['A', 'C', 'G', 'T']:\n",
    "        curr = ict[n]\n",
    "        if len(curr) < 2: continue\n",
    "        plt.plot(x, curr[:-1])\n",
    "        plt.legend(labels=[ 'A', 'C', 'T'])\n",
    "        plt.ylabel('Error Count')\n",
    "        plt.xlabel('Phred Quality Score')  \n",
    "        plt.tight_layout()"
   ]
  },
  {
   "cell_type": "code",
   "execution_count": null,
   "metadata": {},
   "outputs": [],
   "source": [
    "for nuc in ['T']:\n",
    "    ict = {'A' : [], 'C' : [], 'G' : [], 'T' : []} \n",
    "    for q, v in tracking[nuc].items():\n",
    "        if q < 39: continue\n",
    "        total = sum(v)\n",
    "        nuc_misreads = v[1:-1]\n",
    "        for idx, count in enumerate(nuc_misreads):\n",
    "            if idx == skip[nuc]:\n",
    "                continue\n",
    "            ict[associate[idx]].append(count)\n",
    "    for n in ['A', 'C', 'G', 'T']:\n",
    "        curr = ict[n]\n",
    "        if len(curr) < 2: continue\n",
    "        plt.plot(x, curr[:-1])\n",
    "        plt.legend(labels=[ 'A', 'C', 'G'])\n",
    "        plt.ylabel('Error Count')\n",
    "        plt.xlabel('Phred Quality Score')"
   ]
  },
  {
   "cell_type": "markdown",
   "metadata": {},
   "source": [
    "### VISUALIZE: Real Error of z and yyy\n",
    "\n",
    "#### Z Conflicts\n",
    "\n",
    "- Currently: Plot total wrong / all instances of reads vs true\n",
    "- Line of best fit plotted at Q > 45\n"
   ]
  },
  {
   "cell_type": "code",
   "execution_count": 248,
   "metadata": {},
   "outputs": [],
   "source": [
    "# Let's start basic\n",
    "# Just 'A' and total wrong\n",
    "# Remember that 33 is useless. 32 does not exist.\n",
    "to_plot = {'A' : [], 'C' : [], 'G' : [], 'T' : []}\n",
    "\n",
    "\n",
    "raw_x = [i for i in np.arange(35, 127)] #34 is 0 in test\n",
    "\n",
    "for n in ['A', 'C', 'G', 'T']:\n",
    "    raw_y = []\n",
    "    focus = tracking[n]\n",
    "    for i in focus.keys():\n",
    "        if i < 35: continue\n",
    "        stats = focus.get(i)\n",
    "        total = sum(stats)\n",
    "        wrong = sum(stats[1:])\n",
    "        if total == 0:\n",
    "            raw_y.append(0)\n",
    "        else: raw_y.append(wrong/total)\n",
    "    to_plot[n] = raw_y\n",
    "\n",
    "\n"
   ]
  },
  {
   "cell_type": "markdown",
   "metadata": {},
   "source": [
    "Take the log if non-zero. Motive: linear graph"
   ]
  },
  {
   "cell_type": "code",
   "execution_count": 254,
   "metadata": {},
   "outputs": [],
   "source": [
    "%matplotlib inline\n",
    "import math\n",
    "import matplotlib.pyplot as plt\n",
    "\n",
    "for nuc in ['A', 'C', 'G', 'T']:\n",
    "    to_change = to_plot[nuc]\n",
    "    for i in range(len(to_change)):\n",
    "        if to_change[i] == 0: \n",
    "            to_change[i] = 0 \n",
    "        else: \n",
    "            to_change[i] = math.log(to_change[i])\n"
   ]
  },
  {
   "cell_type": "markdown",
   "metadata": {},
   "source": [
    "Fill in missing values with a mean (only present at low sample sizes)"
   ]
  },
  {
   "cell_type": "code",
   "execution_count": 80,
   "metadata": {},
   "outputs": [],
   "source": [
    "for nuc in ['A', 'C', 'G', 'T']:\n",
    "    fix = to_plot[nuc]\n",
    "    for i in range(len(fix)):\n",
    "        if fix[i] == 0:\n",
    "            fix[i] = 0.5*(fix[i-1]+fix[i+1])"
   ]
  },
  {
   "cell_type": "markdown",
   "metadata": {},
   "source": [
    "Plot the 4 nucleotides "
   ]
  },
  {
   "cell_type": "code",
   "execution_count": null,
   "metadata": {},
   "outputs": [],
   "source": [
    "fig, axes = plt.subplots(2,2, sharex=True, sharey=True, figsize=(10,10))\n",
    "plt.subplots_adjust(wspace=0,hspace=0)\n",
    "\n",
    "axes[0,0].scatter(raw_x, to_plot['A'], c='red',s=12)\n",
    "axes[0,1].scatter(raw_x, to_plot['C'], c='blue', s=12)\n",
    "axes[1,0].scatter(raw_x, to_plot['G'], c='green',s=12)\n",
    "axes[1,1].scatter(raw_x, to_plot['T'], c='purple',s=12)\n",
    "\n",
    "# Needs to be calculated below\n",
    "# axes[0,0].scatter(x, lobA, c='black')\n",
    "# axes[0,1].scatter(x, lobC, c='black')\n",
    "# axes[1,0].scatter(x, lobG, c='black')\n",
    "# axes[1,1].scatter(x, lobT, c='black')\n",
    "\n",
    "# # Check something...\n",
    "# for i in range(2):\n",
    "#     for j in range(2):\n",
    "#         axes[i,j].hlines(0.01, 35, 126)\n",
    "\n",
    "labels = ['A', 'C', 'G', 'T']\n",
    "# labels_with_lobf = ['A', '_lobfA', 'C', '_lobfC',  'G', '_lobfG',  'T', '1e-2']\n",
    "fig.legend(labels=labels, loc=\"right\")\n",
    "fig.suptitle('Associating Error Rate with Phred Q Score (n=455,157)', fontsize=25)\n",
    "fig.supxlabel('Phred Q scores', fontsize=20)\n",
    "fig.supylabel('Log_10 Adjusted Real Error Rate', fontsize=20)\n",
    "# fig.supylabel('Real Error Rate', fontsize=20)\n",
    "\n",
    "\n",
    "\n"
   ]
  },
  {
   "cell_type": "code",
   "execution_count": 242,
   "metadata": {},
   "outputs": [
    {
     "data": {
      "text/plain": [
       "100053"
      ]
     },
     "execution_count": 242,
     "metadata": {},
     "output_type": "execute_result"
    }
   ],
   "source": [
    "# count = 0\n",
    "# for rfp in rfp_list:\n",
    "#     if int((len(rfp.columns)-4)/2) > 3:\n",
    "#         count += 1\n",
    "# count"
   ]
  },
  {
   "cell_type": "markdown",
   "metadata": {},
   "source": [
    "### Line of best fits\n",
    "- Calculated using ML and after Q = 45\n"
   ]
  },
  {
   "cell_type": "code",
   "execution_count": 94,
   "metadata": {},
   "outputs": [
    {
     "name": "stdout",
     "output_type": "stream",
     "text": [
      "59\n"
     ]
    }
   ],
   "source": [
    "# Assessing if contig is a viable thing to use for RFP Truth\n",
    "for x,rfp in enumerate(rfp_list):\n",
    "    if DNA_seqs.get_coverage_count(x+1) > 3:\n",
    "        if rfp.empty: continue\n",
    "        muts = rfp['changes']\n",
    "        if len(muts[muts==122]) > 1:\n",
    "            print(x+1)\n",
    "            break"
   ]
  },
  {
   "cell_type": "markdown",
   "metadata": {},
   "source": [
    "Using torch to calculate line of best fit"
   ]
  },
  {
   "cell_type": "code",
   "execution_count": 168,
   "metadata": {},
   "outputs": [],
   "source": [
    "# Desired func y = mx + b => # params are m, b\n",
    "import torch\n",
    "p = torch.randn(2).requires_grad_()"
   ]
  },
  {
   "cell_type": "code",
   "execution_count": 169,
   "metadata": {},
   "outputs": [],
   "source": [
    "x = torch.tensor(np.arange(46, 127)).long()\n",
    "yA = torch.tensor(to_plot['A'][11:]).float()\n",
    "yC = torch.tensor(to_plot['C'][11:]).float()\n",
    "yG = torch.tensor(to_plot['G'][11:]).float()\n",
    "yT = torch.tensor(to_plot['T'][11:]).float()\n",
    "\n",
    "class Dataset(torch.utils.data.Dataset):\n",
    "    def __init__(self, x, y):\n",
    "        super().__init__()\n",
    "        self.x,self.y = x,y\n",
    "        self.len = len(x)\n",
    "        \n",
    "    def __len__(self): return self.len\n",
    "    \n",
    "    def __getitem__(self, idx): return self.x[idx], self.y[idx]\n",
    "\n",
    "testdsA = torch.utils.data.DataLoader(Dataset(x,yA), batch_size=3)\n",
    "testdsC = torch.utils.data.DataLoader(Dataset(x,yC), batch_size=5)\n",
    "testdsG = torch.utils.data.DataLoader(Dataset(x,yG), batch_size=5)\n",
    "testdsT = torch.utils.data.DataLoader(Dataset(x,yT), batch_size=5)"
   ]
  },
  {
   "cell_type": "code",
   "execution_count": null,
   "metadata": {},
   "outputs": [],
   "source": [
    "def func(params, input):\n",
    "    a, b = params\n",
    "    return a*input + b\n",
    "\n",
    "import torch.functional as F\n",
    "from fastai.vision.all import *\n",
    "from fastbook import *\n",
    "\n",
    "def loss_func(pred, targ):\n",
    "    # Let's use RMSE\n",
    "    return ((pred-targ)**2).sqrt()\n",
    "\n",
    "lr = 1e-5\n",
    "for i in range(1000):\n",
    "    loss_total = 0\n",
    "    n_obs = 0\n",
    "    for xin, yin in testdsT:\n",
    "        \n",
    "        pred = func(p, xin)\n",
    "        loss = loss_func(pred, yin).mean()\n",
    "        \n",
    "        loss.backward() \n",
    "        p.data -= p.grad.data * lr\n",
    "        p.grad = None\n",
    "        \n",
    "        n = len(xin)\n",
    "        loss_total += loss.item()*n\n",
    "        n_obs +=n\n",
    "        \n",
    "    print(loss_total/n_obs)"
   ]
  },
  {
   "cell_type": "code",
   "execution_count": 178,
   "metadata": {},
   "outputs": [],
   "source": [
    "def f(x):\n",
    "    a,b =p.data\n",
    "    return a*x+b"
   ]
  },
  {
   "cell_type": "markdown",
   "metadata": {},
   "source": []
  },
  {
   "cell_type": "code",
   "execution_count": 183,
   "metadata": {},
   "outputs": [],
   "source": [
    "lobT = []\n",
    "for i in x:\n",
    "    lobT.append(f(i))"
   ]
  },
  {
   "cell_type": "markdown",
   "metadata": {},
   "source": [
    "#### YYY Conflicts\n",
    "\n",
    "- Two main categories:\n",
    "    - Insertion (Target, non-agreeing reads have '-' for alignment)\n",
    "    - Deletion  (Only read has '-' for alignment) \n",
    "\n",
    "&nbsp;\n",
    "\n",
    "\n",
    "- Insertion types:\n",
    "    - Misaligned multi-insertions \n",
    "        - e.g. aligned as G-GG-AG / G**G**G*A*GAG when it should be GGG--AG / GGG**AG**AG) \n",
    "    - Multi-insertions (G--G / GAAG)\n",
    "        - [4y+]\n",
    "    - **Harmonious** Insert\n",
    "        - Matches left AND right\n",
    "    - **1x Discord** Insert\n",
    "        - Matches left OR right nuc\n",
    "    - **2x Discord** Insert\n",
    "        - No match with left OR right\n",
    "<br>      \n",
    "&nbsp;\n",
    "- Deletion types: (Note: the thing that *matches* is the truth that was deleted)\n",
    "    - **Harmonious** del\n",
    "        - Matches left AND right nuc\n",
    "    - **1X Discord** del \n",
    "        - Matches left OR right nuc \n",
    "    - **2x Discord** del \n",
    "        - No match with left OR right [e.g. A-G when others say A**C**G]"
   ]
  },
  {
   "cell_type": "markdown",
   "metadata": {},
   "source": [
    "Checking Difference in Error Counts between Nucleotides\n",
    "- Not shown: spikes at Q=126\n",
    "    - A ~ 20,000; C,G ~ 18,000; T ~ 10,000"
   ]
  },
  {
   "cell_type": "code",
   "execution_count": null,
   "metadata": {},
   "outputs": [],
   "source": [
    "tracking_vocab = ['correct', 'A', 'C', 'G', 'T', '-']\n",
    "tracking['A']\n",
    "\n",
    "for nuc in ['A', 'C', 'G', 'T']:\n",
    "    error_frequency = []\n",
    "    for q, v in tracking[nuc].items():\n",
    "        if q > 34:\n",
    "            error_frequency.append(sum(v[1:]))\n",
    "    q_related = [x for x in np.arange(35, 126)]\n",
    "    plt.plot(q_related, error_frequency[:-1])\n",
    "    # print(np.argmax(error_frequency[:-1]), max(error_frequency[:-1]))\n",
    "    # print(error_frequency[2])\n",
    "plt.legend(labels=['A', 'C', 'G', 'T'])\n",
    "plt.ylabel('Error Count')\n",
    "plt.xlabel('Phred Quality Score')\n",
    "    # max_freq = max(error_frequency[:-1])\n",
    "    # norm = [item/max_freq for item in error_frequency[:-1]]\n",
    "    # plt.plot(q_related, norm)\n",
    "    # plt.text(126, error_frequency[-1]-20_000, \"%d\" %error_frequency[-1] + nuc, ha=\"right\")"
   ]
  },
  {
   "cell_type": "markdown",
   "metadata": {},
   "source": [
    "&nbsp;\n",
    "\n",
    "**Resolution**\n",
    "- No Q score difference:\n",
    "    - (! is an insert) \\~\\~\\~ vs. ~!~ => \\~\\~\\~ wins\n"
   ]
  },
  {
   "cell_type": "code",
   "execution_count": null,
   "metadata": {},
   "outputs": [],
   "source": [
    "# Search for where there are y conflicts (once the first y is found. Keep checking \"changes\" column along nuc++ until a non-y char is found)\n",
    "# Return the view of BFP or RFP with the continuous chunk of y's\n",
    "\n",
    "def is_insertion(df):\n",
    "    if (df['targ'][df['targ'] == 45]).empty: # If the target has NO indels\n",
    "        return True # Means it's a INSERTION\n",
    "    return False\n",
    "\n",
    "def is_harmonious(df, coverage):\n",
    "    for num in range(1, coverage+1):\n",
    "        read = df[f'read{num}']\n",
    "         \n",
    "    "
   ]
  },
  {
   "cell_type": "markdown",
   "metadata": {},
   "source": [
    "## Training a LogReg model"
   ]
  },
  {
   "cell_type": "markdown",
   "metadata": {},
   "source": []
  },
  {
   "cell_type": "code",
   "execution_count": null,
   "metadata": {},
   "outputs": [],
   "source": [
    "import torch\n",
    "import torch.nn as nn\n",
    "import torch.nn.functional as F\n",
    "\n",
    "class ZConflicts(torch.utils.data.Dataset):\n",
    "    \n",
    "    def __init__(self, x, y):\n",
    "        pass\n",
    "        \n",
    "class LinReg(nn.Module):\n",
    "    \n",
    "    def __init__(self):\n",
    "        super().__init__()\n",
    "        pass\n",
    "    def forward(self, x):\n",
    "        pass\n",
    "        "
   ]
  }
 ],
 "metadata": {
  "kernelspec": {
   "display_name": "Python 3.8.10 ('venv')",
   "language": "python",
   "name": "python3"
  },
  "language_info": {
   "codemirror_mode": {
    "name": "ipython",
    "version": 3
   },
   "file_extension": ".py",
   "mimetype": "text/x-python",
   "name": "python",
   "nbconvert_exporter": "python",
   "pygments_lexer": "ipython3",
   "version": "3.8.10"
  },
  "orig_nbformat": 4,
  "vscode": {
   "interpreter": {
    "hash": "7e45b5fe9540dcae422003c6a552f47067b28c6171ef36dc1ede64a9e99e7c78"
   }
  }
 },
 "nbformat": 4,
 "nbformat_minor": 2
}
