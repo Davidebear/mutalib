{
 "cells": [
  {
   "cell_type": "code",
   "execution_count": 66,
   "metadata": {},
   "outputs": [],
   "source": [
    "\n",
    "# from sbhandler import *\n",
    "from math import pow    \n",
    "# from fastai.vision.all import *\n",
    "\n",
    "# Needed imports\n",
    "import numpy as np\n",
    "import h5py\n",
    "\n",
    "# Source code for functions from seqblock_handler.py\n",
    "def load_matlab_file(mat_file, variable_name): # Note the double return statement\n",
    "    \"\"\"_summary_\n",
    "    //UNIQUE: Only one variable for this .mat file\n",
    "    \n",
    "    Args:\n",
    "        mat_file (string): Name of .mat file to intake (path must be given if not in current dir)\n",
    "        variable_name (string): which variable from the mat file. Only one here because of the .mat file structure.\n",
    "\n",
    "    Returns:\n",
    "        h5py_object, data: Overall h5py_object and the specific variable as an nparray\n",
    "    \"\"\"\n",
    "    h5py_object = h5py.File(mat_file, 'r')\n",
    "    data = h5py_object.get(variable_name)\n",
    "    data = np.array(data)\n",
    "    return h5py_object, data\n",
    "\n",
    "class DNA_SeqBlocks():\n",
    "    \"\"\"Mat dataset \n",
    "    Loads the mat file with DNA sequences for easy iteration through all stored DNA sequence lists of varying coverage\n",
    "    \"\"\"\n",
    "    def __init__(self, h5py_object, data):\n",
    "        \"\"\"Initialize DNA_SeqBlocks() object\n",
    "        Args:\n",
    "            h5py_object (h5py_object): first return variable of load_matlab_file\n",
    "            data (np.array): second return variable of load_matlab_file\n",
    "        \"\"\"\n",
    "        self.h5py_object = h5py_object\n",
    "        self.data = np.transpose(data)\n",
    "        self.size = len(data) \n",
    "        \n",
    "    def get_seqblock(self, number): # checked\n",
    "        x = self.h5py_object[self.data[0, number-1]][:, :] # //UNIQUE: 0th column because .mat file, align3 variable only has one row\n",
    "        return np.transpose(x)\n",
    "    \n",
    "    def get_coverage_count(self, number): # checked. below funcs dependent on it\n",
    "        x = self.h5py_object[self.data[0, number-1]][0,:]\n",
    "        coverage_count = int((len(x)-4)/2)\n",
    "        return coverage_count\n",
    "    \n",
    "    def get_quality(self, number, coverage_count, nuc_pos): # checked\n",
    "        x = self.h5py_object[self.data[0, number-1]][nuc_pos, (1+coverage_count):(1+2*coverage_count)]\n",
    "        return np.transpose(x)\n",
    "    \n",
    "    def get_nuc(self, number, coverage_count, nuc_pos): # checked\n",
    "        x = self.h5py_object[self.data[0,number-1]][nuc_pos, 1:(coverage_count+1)]\n",
    "        return np.transpose(x)\n",
    "    \n",
    "    def get_interp_changes(self, number, coverage_count): # checked\n",
    "        x = self.h5py_object[self.data[0,number-1]][:,(1+2*coverage_count)]\n",
    "        return np.transpose(x)\n",
    "    \n",
    "    def get_interp_mutations(self, number, coverage_count):\n",
    "        x = self.h5py_object[self.data[0,number-1]][:,(3+2*coverage_count)]\n",
    "        return np.transpose(x)\n",
    "    \n",
    "    def get_interp_consensus(self, number, coverage_count): \n",
    "        x = self.h5py_object[self.data[0,number-1]][:,(2+2*coverage_count)]\n",
    "        return np.transpose(x)\n",
    "    \n",
    "def seqblock_parser(seqblock):\n",
    "    seqblock_parsed = CleanSeqBlock()\n",
    "    total_columns = len(np.transpose(seqblock)) # is there a more efficient way?\n",
    "    total_rows = len(seqblock)\n",
    "    number_of_reads = int((total_rows - 4)/2) # last three rows have intreptations, first row is non-mutated target sequence, and N quality scores for N reads\n",
    "    \n",
    "    seqblock_parsed.reads_count = number_of_reads;\n",
    "    seqblock_parsed.len = total_columns;\n",
    "    \n",
    "    # print(total_columns)\n",
    "    # print(total_rows)\n",
    "    \n",
    "    for i in range(0,total_rows):\n",
    "        # print(f\" The sequenceblock input {seqblock}\") #debug\n",
    "        # print(f\" The m x n size of the seqblock {seqblock.shape}\") #debug\n",
    "        # print(f\" The ith row of the seqblock {current_seq}\") #debug\n",
    "        # print(f\" The m x n size of the sequence {current_seq.shape}\") #debug\n",
    "        \n",
    "        # new_format = np.chararray(total_columns) //CHANGED to string\n",
    "        new_format = \"\"\n",
    "        # new_format[:] = 'q' #debug\n",
    "        \n",
    "        # print(f\" The 0th entry of the initialized char array {new_format[0, 0]}\") #debug\n",
    "        # print(f\" Its row size {len(new_format[0])}\")\n",
    "        for j in range(total_columns):\n",
    "            # print(j)\n",
    "            if seqblock[i,j] == 32: # //Confirmed\n",
    "                new_format += \" \"\n",
    "            else: new_format += chr(seqblock[i,j])\n",
    "            \n",
    "            \n",
    "        if (i == 0):\n",
    "            seqblock_parsed.target = new_format\n",
    "        elif (i == total_rows - 1): # last row is mutations 'x', total_rows is one more than total index\n",
    "            seqblock_parsed.interp_mutations = new_format\n",
    "        elif (i == total_rows - 2): # 2nd last is subjective consensus\n",
    "            seqblock_parsed.interp_consensus = new_format\n",
    "        elif (i == total_rows - 3): \n",
    "            seqblock_parsed.interp_changes = new_format\n",
    "        elif (i > 0 and i < number_of_reads + 1):\n",
    "            seqblock_parsed.reads.append(new_format)\n",
    "        else:\n",
    "            seqblock_parsed.qscores.append(new_format)\n",
    "    return seqblock_parsed     \n",
    "    \n",
    "class CleanSeqBlock():\n",
    "    def __init__(self):\n",
    "        self.reads_count = 0;\n",
    "        self.len = 0;\n",
    "        \n",
    "        self.target = 0;\n",
    "        \n",
    "        self.reads = [];\n",
    "        self.qscores = [];\n",
    "        \n",
    "        self.interp_changes = 0; # indel in between y's and z shows a KNOWN base error\n",
    "        self.interp_consensus = 0;\n",
    "        self.interp_mutations = 0;\n"
   ]
  },
  {
   "cell_type": "markdown",
   "metadata": {},
   "source": [
    "# Obtaining Data and Scrubbing (OS)"
   ]
  },
  {
   "cell_type": "code",
   "execution_count": 67,
   "metadata": {},
   "outputs": [],
   "source": [
    "\n",
    "# load_matlab_file function Testing\n",
    "file_name = 'consensus1.mat'\n",
    "variable_of_interest = 'align3'\n",
    "h5py_object, data = load_matlab_file(file_name, variable_name=variable_of_interest)\n",
    "\n",
    "# DNA_seqs can be used to grab each raw_seqblock\n",
    "DNA_seqs = DNA_SeqBlocks(h5py_object=h5py_object, data=data) \n",
    "FILE_SIZE = DNA_seqs.size #Constant"
   ]
  },
  {
   "cell_type": "code",
   "execution_count": 13,
   "metadata": {},
   "outputs": [],
   "source": [
    "# Get_seqblock function Testing\n",
    "test_raw_seqblock = DNA_seqs.get_seqblock(1) # Let's look at the first DNA sequence block\n",
    "test_raw_seqblock[9,:] # [row, column] \n",
    "\n",
    "t_seqblock= seqblock_parser(test_raw_seqblock) # Let's test the parsing function to get a CleanSeqBlock\n",
    "\n",
    "# Assess proper formatting of each aspect of the raw_seqblock\n",
    "# print(f'Seq Length: {t_seqblock.len}, # of Reads: {t_seqblock.reads_count}') \n",
    "# print()\n",
    "# print(f'Target sequence {t_seqblock.target} \\n \\n All {t_seqblock.reads_count} reads {t_seqblock.reads} \\n\\n Quality scores string {t_seqblock.qscores}')\n",
    "# print()\n",
    "# print(f'Yiyang\\'s declared indels/base-call errors: {t_seqblock.interp_changes} \\n Inferred consensus: {t_seqblock.interp_consensus} \\n \\'x\\' marks the spot: {t_seqblock.interp_mutations}')"
   ]
  },
  {
   "cell_type": "code",
   "execution_count": 14,
   "metadata": {},
   "outputs": [],
   "source": [
    "# Figure out how to create the interp_mutations and interp_changes\n",
    "working = test_raw_seqblock[9,:] # muts\n",
    "changes = test_raw_seqblock[7,:] # changes"
   ]
  },
  {
   "cell_type": "markdown",
   "metadata": {},
   "source": [
    "# Data Exploration (E)\n",
    "### How are these *Phred* quality scores structured and used?\n",
    "*MAX* = 126, *MIN* = 33, **RANGE** = 93\n",
    "\n",
    "Prob. of a base-call error (P) = `Math.pow(10, -(Q-33)/10)`\n",
    "\n",
    "Prob. of accuracy = 1 - P"
   ]
  },
  {
   "cell_type": "code",
   "execution_count": null,
   "metadata": {},
   "outputs": [],
   "source": [
    "#!hide\n",
    "\"\"\"\n",
    "max_q = []\n",
    "min_q = []\n",
    "for x in range(1, 350000, 500):\n",
    "    seqblock = seqblock_parser(DNA_seqs.get_seqblock(x))\n",
    "# for one seqblock\n",
    "    for i in range(seqblock.reads_count):\n",
    "        temp_list = [ord(q) for q in seqblock.qscores[i]]\n",
    "        max_q.append(max(temp_list))\n",
    "        min_q.append(min(temp_list))\n",
    "(max(max_q)-min(min_q)), max(max_q), min(min_q)\n",
    "\"\"\"\n",
    "max_q = []\n",
    "min_q = []\n",
    "for x in range(1, 350000, 500):\n",
    "    seqblock = seqblock_parser(DNA_seqs.get_seqblock(x))\n",
    "# for one seqblock\n",
    "    for i in range(seqblock.reads_count):\n",
    "        temp_list = [ord(q) for q in seqblock.qscores[i]]\n",
    "        max_q.append(max(temp_list))\n",
    "        min_q.append(min(temp_list))\n",
    "(max(max_q)-min(min_q)), max(max_q), min(min_q)\n",
    "\n",
    "\n",
    "# Supposed conversion from Q score to a probability... Lowest base call error is 5.01e-4\n",
    "def prob(Qscore): \n",
    "    return pow(10, -(Qscore-33)/10)\n",
    "(f'{prob(33):.2f}'), (f'{prob(126):.2e}')"
   ]
  },
  {
   "cell_type": "markdown",
   "metadata": {},
   "source": [
    "### What is the typical coverage?   \n",
    "| 1 | 2- | 3- | 4+\n",
    "| --- | --- | --- | --- |\n",
    "| 32% | (+23%) 55% | (+15%) 70% | 30% |\n",
    "\n",
    "**32%** have 1 coverage\n",
    "\n",
    "**55%** have 2 or less coverage\n",
    "\n",
    "**70%** have 3 or less coverage\n",
    "\n",
    "I.e. **45%** have moderate to high coverage, **55%** have **LOW** coverage\n",
    "\n",
    "\n",
    "**Significance of Results**: \n",
    "\n",
    "Majority/weighted voting can only be applied to ~45% of the dataset (3.+ coverage)\n",
    "\n",
    "Low-coverage data can be rectified with **maximum likelihoods?**, **logistic model w/ knots** used in Li 2004?, **quality scores** (use as *baseline*)"
   ]
  },
  {
   "cell_type": "code",
   "execution_count": null,
   "metadata": {},
   "outputs": [],
   "source": [
    "# Cell takes approx. 90 seconds to run for 355104 seqblocks\n",
    "coverage_list = [DNA_seqs.get_coverage_count(x) for x in range(1,355105)]\n",
    "\n",
    "# Extract the exact values of each coverage (max is 20)\n",
    "coverage_dist = []\n",
    "for i in range(1,21):\n",
    "    coverage_dist.append(coverage_list.count(i))"
   ]
  },
  {
   "cell_type": "code",
   "execution_count": null,
   "metadata": {},
   "outputs": [],
   "source": [
    "print(f'Proportion of 1-coverage seqblocks: {coverage_dist[0]/sum(coverage_dist):>12.2%}')\n",
    "print(f'Proportion of 2-coverage seqblocks: {coverage_dist[1]/sum(coverage_dist):>12.2%}')\n",
    "print(f'Proportion of [1,2] coverage seqblocks: {(coverage_dist[0]+coverage_dist[1])/sum(coverage_dist):>8.2%}')\n",
    "print(f'Proportion of [1,2,3] coverage seqblocks: {(coverage_dist[0]+coverage_dist[1]+coverage_dist[2])/sum(coverage_dist):>6.2%}')\n",
    "print(f'High coverage (6+) Proportion: {sum(coverage_dist[5:len(coverage_dist):1])/sum(coverage_dist):>17.2%}')\n",
    "\n",
    "# Histogram of the coverage distribution\n",
    "import matplotlib.pyplot as plt\n",
    "fig, ax = plt.subplots(figsize = (6,4))\n",
    "ax.set_ylim(0, 120000)\n",
    "plt.hist(coverage_list, bins=21, align='mid', alpha=0.9, histtype='stepfilled', color='steelblue', edgecolor='none')\n",
    "ax.set_xticks(range(21))\n",
    "ax.set_xlabel('# of Coverage')\n",
    "ax.set_ylabel('Frequency')\n",
    "ax.set_title('Coverage Distribution of consensus1.mat')\n",
    "\n",
    "# IDXS are in Python format since enumerate starts at 0\n",
    "single_coverage_idxs = [i for i, e in enumerate(coverage_list) if e == 1]\n",
    "double_coverage_idxs = [i for i, e in enumerate(coverage_list) if e == 2]\n",
    "triple_coverage_idxs = [i for i, e in enumerate(coverage_list) if e == 3]\n",
    "\n",
    "high_coverage_idxs = [i for i, e in enumerate(coverage_list) if e >= 6]\n"
   ]
  },
  {
   "cell_type": "markdown",
   "metadata": {},
   "source": [
    "### Quality of Low Coverage Reads"
   ]
  },
  {
   "cell_type": "code",
   "execution_count": null,
   "metadata": {},
   "outputs": [],
   "source": [
    "# Let's first grab all the attributes of each single coverage seq block... 30 minutes\n",
    "lquality = []\n",
    "lread = []\n",
    "lmutation = []\n",
    "lnotes = []\n",
    "lconsensus = []\n",
    "\n",
    "for i in single_coverage_idxs:\n",
    "    sb = seqblock_parser(DNA_seqs.get_seqblock(i+1))\n",
    "    lquality.append(sb.qscores)\n",
    "    lread.append(sb.reads)\n",
    "    lmutation.append(sb.interp_mutations)\n",
    "    lnotes.append(sb.interp_changes)\n",
    "    lconsensus.append(sb.interp_consensus)"
   ]
  },
  {
   "cell_type": "code",
   "execution_count": null,
   "metadata": {},
   "outputs": [],
   "source": [
    "# Assess the quality scores at mutation areas (first try 'x'), then try 'z', then manually find overlaps within a small range of seqblock\n",
    "idxs_of_interest = []\n",
    "seqblocks = []\n",
    "for i in range(len(single_coverage_idxs)): # using the single_coverage_idxs length gives the position of each lmutation \n",
    "    currmut = lmutation[i]\n",
    "    idxs = [l for l, ltr in enumerate(currmut) if ltr == 'x']\n",
    "    seqblocks.append([i]*len(idxs))\n",
    "    idxs_of_interest.append(idxs)\n",
    "mutations = list(zip(seqblocks, idxs_of_interest))\n",
    "mutations"
   ]
  },
  {
   "cell_type": "code",
   "execution_count": null,
   "metadata": {},
   "outputs": [],
   "source": [
    "# Working with the new form\n",
    "for x,y in mutations:\n",
    "    print(y)\n",
    "    x = x[0] # how to index within lmutation\n",
    "    currmut = lmutation[x]\n",
    "    currqual = str(lquality[x])\n",
    "    print(currqual)\n",
    "    print(len(currqual))\n",
    "    qscores = [currqual[b] for b in y]\n",
    "print(qscores)"
   ]
  },
  {
   "cell_type": "markdown",
   "metadata": {},
   "source": [
    "### Reads Length\n",
    "- Huge spike at around ~1609 with some outliers as low as 100 (doesn't really matter.)\n",
    "- Question is whether the base calls are biased (check support)\n",
    "\n",
    "- IMPORTANT: Are there clusters in our dataset? Do certain indices have lower coverage, more inaccuracy, or different read lengths?"
   ]
  },
  {
   "cell_type": "code",
   "execution_count": 29,
   "metadata": {},
   "outputs": [],
   "source": [
    "# Assessing the support of each base \n",
    "Ccount = 0\n",
    "Tcount = 0\n",
    "Acount = 0\n",
    "Gcount = 0\n",
    "indelcount = 0\n",
    "\n",
    "for i in range(1, 355105, 50000):\n",
    "    # for one seqblock\n",
    "    t_seqblock = seqblock_parser(DNA_seqs.get_seqblock(i))\n",
    "    for j in range(t_seqblock.reads_count):\n",
    "        for i in t_seqblock.reads[j]: #Input change here\n",
    "            if i == 'C':\n",
    "                Ccount+=1;\n",
    "            if i == 'A':\n",
    "                Acount+=1;\n",
    "            if i == 'T':\n",
    "                Tcount +=1;\n",
    "            if i == 'G':\n",
    "                Gcount +=1;\n",
    "            if i == '-':\n",
    "                indelcount +=1;\n",
    "    # print(f\" C: {Ccount} \\n G: {Gcount} \\n A: {Acount} \\n T: {Tcount} \\n indels: {indelcount}\")\n",
    "    # print(test_parse.seq_len)\n",
    "    # assert Ccount+Tcount+Gcount+Acount+indelcount == t_seqblock.len, f\"Info lost in {j}th index read \"\n",
    "    # print(f\"Success in {j}th read!\")    "
   ]
  },
  {
   "cell_type": "code",
   "execution_count": 31,
   "metadata": {},
   "outputs": [
    {
     "name": "stdout",
     "output_type": "stream",
     "text": [
      "\n",
      "      % A:  0.25\n",
      "      % C:  0.29\n",
      "      % T:  0.16\n",
      "      % G:  0.26\n",
      "      % -:  0.04\n",
      "      \n"
     ]
    },
    {
     "data": {
      "text/plain": [
       "'\\n% A:  0.25\\n% C:  0.31\\n% T:  0.16\\n% G:  0.28\\nfor every 500th\\n'"
      ]
     },
     "execution_count": 31,
     "metadata": {},
     "output_type": "execute_result"
    }
   ],
   "source": [
    "# Nucleotide Counts\n",
    "Ccount, Tcount, Acount, Gcount, indelcount\n",
    "total = Ccount + Tcount + Acount + Gcount + indelcount\n",
    "print(f\"\"\"\n",
    "      % A:  {Acount/total:.2f}\n",
    "      % C:  {Ccount/total:.2f}\n",
    "      % T:  {Tcount/total:.2f}\n",
    "      % G:  {Gcount/total:.2f}\n",
    "      % -:  {indelcount/total:.2f}\n",
    "      \"\"\")\n",
    "\n",
    "'''\n",
    "% A:  0.25\n",
    "% C:  0.31\n",
    "% T:  0.16\n",
    "% G:  0.28\n",
    "for every 500th\n",
    "'''"
   ]
  },
  {
   "cell_type": "code",
   "execution_count": 25,
   "metadata": {},
   "outputs": [],
   "source": [
    "\n",
    "\n",
    "\n",
    "\n",
    "# Probabiliy dist of reads\n",
    "# %matplotlib inline\n",
    "# import matplotlib.pyplot as plt\n",
    "\n",
    "# seq_len_dist = []\n",
    "# for i in seqblocks_list:\n",
    "#     seq_len_dist.append(i.seq_len)\n",
    "\n",
    "# plt.xlabel(\"Sequence length\")\n",
    "\n",
    "# plt.ylabel(\"Frequency\")\n",
    "# plt.title(\"Prob. Dist. of first 100k sequence blocks\")\n",
    "# plt.hist(seq_len_dist, bins=100, range=(150, 1800), color = 'blue',\n",
    "#         histtype = 'bar')"
   ]
  },
  {
   "cell_type": "code",
   "execution_count": null,
   "metadata": {},
   "outputs": [],
   "source": [
    "# Test runtime of creating a CleanSeqBlock of all 355 104 sequence blocks\n",
    "import time\n",
    "start = time.time()\n",
    "\n",
    "# --------------------------------------------------------------------------------------\n",
    "# Load the .mat file into the DNA_SeqBlocks class (analogous to torch.utils.data.Dataset)\n",
    "# ---\n",
    "file_name = 'consensus1.mat'\n",
    "variable_of_interest = 'align3'\n",
    "h5py_object, data = load_matlab_file(file_name, variable_name=variable_of_interest)\n",
    "\n",
    "dataset = DNA_SeqBlocks(h5py_object=h5py_object, data=data)\n",
    "\n",
    "seqblocks_list = []\n",
    "for i in range(dataset.size+1): #for all 355104 seqblocks, remember that range doesn't include last number and matlab indexing used for get_seqblock\n",
    "    print(i)\n",
    "    seqblock_i = dataset.get_seqblock(i) #matlab indexing to allow easy comparison\n",
    "    cleanseqblock_i = seqblock_parser(seqblock_i) # creates ith CleanSeqBlock\n",
    "    seqblocks_list.append(cleanseqblock_i) # to house all 355104 CleanSeqBlock(s)\n",
    "print(len(seqblocks_list))\n",
    "    \n",
    "\n",
    "end = time.time()\n",
    "print(f\"Total runtime to create 355104 CleanSeqBlock objects: {end-start:.1f} seconds = {(end-start)/60:.0f} minutes.\")\n",
    "\n"
   ]
  },
  {
   "cell_type": "code",
   "execution_count": null,
   "metadata": {},
   "outputs": [],
   "source": [
    "# # Using pickle to save the CleanSeqBlocks list\n",
    "# import pickle\n",
    "\n",
    "# # Let's try with the current list of 10,000 CleanSeqBlock\n",
    "# with open('last_155_104.pickle', 'wb') as file_out:\n",
    "#     pickle.dump(home_list_3, file_out)\n",
    "    \n",
    "# # unpickled_list = pickle.load(open('data.pickle','rb'))\n",
    "# # print(len(unpickled_list))\n"
   ]
  },
  {
   "cell_type": "markdown",
   "metadata": {},
   "source": [
    "## Understanding the meaning of 'z', 'x', and 'y' in dataset\n",
    "- **'z'** = failed majority voting btwn reads\n"
   ]
  },
  {
   "cell_type": "markdown",
   "metadata": {},
   "source": [
    "### Testing the meaning of 'z'\n",
    "- **Confirmed.** 'z' means a disagreement in reads (does not assess respective quality scores)"
   ]
  },
  {
   "cell_type": "code",
   "execution_count": null,
   "metadata": {},
   "outputs": [],
   "source": []
  },
  {
   "cell_type": "code",
   "execution_count": 84,
   "metadata": {},
   "outputs": [],
   "source": [
    "COV_TEST=2\n",
    "CHAR_TEST='z'\n",
    "\n",
    "test = [] \n",
    "seq = []\n",
    "\n",
    "for i in range(1, FILE_SIZE+1): #whole \n",
    "    cov = DNA_seqs.get_coverage_count(i)\n",
    "    if (cov == COV_TEST):  # Only care about a specific coverage\n",
    "        interp = DNA_seqs.get_interp_changes(i, COV_TEST) # Now we're looking at the interp changes... eventually searching for 'z'\n",
    "        for npos in range(len(interp)):\n",
    "            if interp[npos] == ord(CHAR_TEST): #Oh dang there's the char at this npos... let's add an array showing the nuc reads and quality along with the z char for security (1x1+2*cov)\n",
    "                reads = DNA_seqs.get_nuc(i, COV_TEST, npos)\n",
    "                quality = DNA_seqs.get_quality(i, COV_TEST, npos)\n",
    "                to_add = np.hstack([reads,quality])\n",
    "                #UNIQUE TO 2 COV\n",
    "                if quality.count(126) == 0:\n",
    "                    test.append(to_add)\n",
    "                    seq.append(i)\n",
    "                    \n",
    "#3.67 mins to run for COV_TEST=2, CHAR_TEST='z'\n"
   ]
  },
  {
   "cell_type": "code",
   "execution_count": 100,
   "metadata": {},
   "outputs": [
    {
     "name": "stdout",
     "output_type": "stream",
     "text": [
      "T\n",
      "C\n",
      "$\n",
      "(\n"
     ]
    }
   ],
   "source": [
    "for i in test[2]:\n",
    "    if i>1:\n",
    "        print\n",
    "    print(chr(i))"
   ]
  },
  {
   "cell_type": "code",
   "execution_count": null,
   "metadata": {},
   "outputs": [],
   "source": [
    "for i in range(len(test)):\n",
    "    curr = test[i]\n",
    "    for n in curr:\n",
    "        if n == ord('z'): \n",
    "            print(f\"Seqblock {idx[i]} has a base error and double-coverage\")\n",
    "            break"
   ]
  },
  {
   "cell_type": "code",
   "execution_count": null,
   "metadata": {},
   "outputs": [],
   "source": []
  },
  {
   "cell_type": "code",
   "execution_count": 68,
   "metadata": {},
   "outputs": [
    {
     "data": {
      "text/plain": [
       "(array([84, 84], dtype=uint16), array([126, 126], dtype=uint16), 2)"
      ]
     },
     "execution_count": 68,
     "metadata": {},
     "output_type": "execute_result"
    }
   ],
   "source": [
    "# I want to test the get_nuc and get_quality funcs\n",
    "nuc_test=1\n",
    "sb_test=47\n",
    "\n",
    "true = seqblock_parser(DNA_seqs.get_seqblock(sb_test))\n",
    "\n",
    "cov = DNA_seqs.get_coverage_count(sb_test)\n",
    "reads= DNA_seqs.get_nuc(sb_test, cov, nuc_test)\n",
    "quality = DNA_seqs.get_quality(sb_test, cov, nuc_test)\n",
    "reads, quality, cov\n"
   ]
  },
  {
   "cell_type": "code",
   "execution_count": 74,
   "metadata": {},
   "outputs": [
    {
     "data": {
      "text/plain": [
       "(65, 67, 71, 84)"
      ]
     },
     "execution_count": 74,
     "metadata": {},
     "output_type": "execute_result"
    }
   ],
   "source": [
    "ord('A'),ord('C'),ord('G'),ord('T')"
   ]
  },
  {
   "cell_type": "code",
   "execution_count": 83,
   "metadata": {},
   "outputs": [
    {
     "data": {
      "text/plain": [
       "'~'"
      ]
     },
     "execution_count": 83,
     "metadata": {},
     "output_type": "execute_result"
    }
   ],
   "source": [
    "chr(126)"
   ]
  },
  {
   "cell_type": "code",
   "execution_count": null,
   "metadata": {},
   "outputs": [],
   "source": []
  }
 ],
 "metadata": {
  "interpreter": {
   "hash": "53de6aa9e1a1054da5b43be93927d1556c0462b2ed2bc32c0400d95c3d2779f2"
  },
  "kernelspec": {
   "display_name": "Python 3.8.10 ('pytorch_env')",
   "language": "python",
   "name": "python3"
  },
  "language_info": {
   "codemirror_mode": {
    "name": "ipython",
    "version": 3
   },
   "file_extension": ".py",
   "mimetype": "text/x-python",
   "name": "python",
   "nbconvert_exporter": "python",
   "pygments_lexer": "ipython3",
   "version": "3.8.10"
  },
  "orig_nbformat": 4
 },
 "nbformat": 4,
 "nbformat_minor": 2
}
